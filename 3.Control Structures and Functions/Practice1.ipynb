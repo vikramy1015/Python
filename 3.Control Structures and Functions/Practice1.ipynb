{
 "cells": [
  {
   "cell_type": "markdown",
   "id": "5629004b",
   "metadata": {},
   "source": [
    "# Decision making\n",
    "## IF statements "
   ]
  },
  {
   "cell_type": "markdown",
   "id": "2cb6eb33",
   "metadata": {},
   "source": [
    "<h2 style = \"color:Brown\"> Relational Operators</h2>\n",
    "\n",
    "- Compares the values on either side of the operator and returns and boolean value as True or False."
   ]
  },
  {
   "cell_type": "code",
   "execution_count": 1,
   "id": "efba2bc4",
   "metadata": {},
   "outputs": [
    {
     "data": {
      "text/plain": [
       "True"
      ]
     },
     "execution_count": 1,
     "metadata": {},
     "output_type": "execute_result"
    }
   ],
   "source": [
    "10==10"
   ]
  },
  {
   "cell_type": "code",
   "execution_count": 2,
   "id": "1b43deaa",
   "metadata": {},
   "outputs": [
    {
     "data": {
      "text/plain": [
       "False"
      ]
     },
     "execution_count": 2,
     "metadata": {},
     "output_type": "execute_result"
    }
   ],
   "source": [
    "10==5"
   ]
  },
  {
   "cell_type": "code",
   "execution_count": 3,
   "id": "04657a2e",
   "metadata": {},
   "outputs": [
    {
     "data": {
      "text/plain": [
       "False"
      ]
     },
     "execution_count": 3,
     "metadata": {},
     "output_type": "execute_result"
    }
   ],
   "source": [
    "10!=10 # not equal to"
   ]
  },
  {
   "cell_type": "code",
   "execution_count": 4,
   "id": "7f576666",
   "metadata": {},
   "outputs": [
    {
     "data": {
      "text/plain": [
       "True"
      ]
     },
     "execution_count": 4,
     "metadata": {},
     "output_type": "execute_result"
    }
   ],
   "source": [
    "10>5"
   ]
  },
  {
   "cell_type": "code",
   "execution_count": 5,
   "id": "2d0c5f8d",
   "metadata": {},
   "outputs": [
    {
     "data": {
      "text/plain": [
       "False"
      ]
     },
     "execution_count": 5,
     "metadata": {},
     "output_type": "execute_result"
    }
   ],
   "source": [
    "10<3"
   ]
  },
  {
   "cell_type": "code",
   "execution_count": 6,
   "id": "fabc0a0a",
   "metadata": {},
   "outputs": [
    {
     "data": {
      "text/plain": [
       "True"
      ]
     },
     "execution_count": 6,
     "metadata": {},
     "output_type": "execute_result"
    }
   ],
   "source": [
    "10>=10"
   ]
  },
  {
   "cell_type": "code",
   "execution_count": 7,
   "id": "1be30385",
   "metadata": {},
   "outputs": [
    {
     "data": {
      "text/plain": [
       "True"
      ]
     },
     "execution_count": 7,
     "metadata": {},
     "output_type": "execute_result"
    }
   ],
   "source": [
    "10>=10"
   ]
  },
  {
   "cell_type": "markdown",
   "id": "2f6addef",
   "metadata": {},
   "source": [
    "<h2 style = \"color:Brown\">Decision Making"
   ]
  },
  {
   "cell_type": "markdown",
   "id": "e5dcd90c",
   "metadata": {},
   "source": [
    "#### Write a program to check value in variable x is less than 99"
   ]
  },
  {
   "cell_type": "code",
   "execution_count": 10,
   "id": "fa112fbe",
   "metadata": {},
   "outputs": [
    {
     "name": "stdout",
     "output_type": "stream",
     "text": [
      "10 yes it is less than 99\n"
     ]
    }
   ],
   "source": [
    "x=10\n",
    "if x<99:\n",
    "    print(x,\"yes it is less than 99\")\n",
    "else:\n",
    "    print(x,\"No it is not less than 99\")"
   ]
  },
  {
   "cell_type": "code",
   "execution_count": 11,
   "id": "3c59e91f",
   "metadata": {},
   "outputs": [
    {
     "name": "stdout",
     "output_type": "stream",
     "text": [
      "919  is more than 99\n"
     ]
    }
   ],
   "source": [
    "x = 919\n",
    "\n",
    "if x < 99:\n",
    "    print(x, \"is less than equal to 99\")\n",
    "elif x == 99:\n",
    "    print(x, \"is equal to 99\")\n",
    "else:\n",
    "    print(x, \" is more than 99\") "
   ]
  },
  {
   "cell_type": "code",
   "execution_count": 20,
   "id": "4d0a958a",
   "metadata": {},
   "outputs": [
    {
     "name": "stdout",
     "output_type": "stream",
     "text": [
      "YES\n"
     ]
    }
   ],
   "source": [
    "## write a code to return YES if x lies in the range of 1000 to 1100, else return NO?\n",
    "x=1098\n",
    "if x< 1000 :\n",
    "    print('NO')\n",
    "else:\n",
    "    if(x>1100):\n",
    "        print('NO')\n",
    "    else:\n",
    "        print('YES')\n"
   ]
  },
  {
   "cell_type": "code",
   "execution_count": 26,
   "id": "28e3b202",
   "metadata": {},
   "outputs": [
    {
     "name": "stdout",
     "output_type": "stream",
     "text": [
      "Yes\n"
     ]
    }
   ],
   "source": [
    "# above code can also write as below using logical operators\n",
    "x=1009\n",
    "if x< 1000 or x>1100 :\n",
    "    print('No')\n",
    "else:\n",
    "    print('Yes')\n"
   ]
  },
  {
   "cell_type": "markdown",
   "id": "8d3712cd",
   "metadata": {},
   "source": [
    "##### Write a program to record the age of visitor and allows him to an exclusive children's day party hosted by Mr Obama only if he or she is above 60 years or below 18 years of age"
   ]
  },
  {
   "cell_type": "code",
   "execution_count": 32,
   "id": "e38c0938",
   "metadata": {},
   "outputs": [
    {
     "name": "stdout",
     "output_type": "stream",
     "text": [
      "Enter your age: 34\n",
      "his/her age is  34 and SORRY you are  Not allowed to exclusive children's day party hosted by Mr Obama\n"
     ]
    }
   ],
   "source": [
    "age=int(input(\"Enter your age: \"))\n",
    "if age <=18 or age>=60:\n",
    "    print(\"his/her age is \", age ,\"and allowed to exclusive children's day party hosted by Mr Obama\")\n",
    "else:\n",
    "    print(\"his/her age is \" ,age ,\"and SORRY you are  Not allowed to exclusive children's day party hosted by Mr Obama\")\n"
   ]
  },
  {
   "cell_type": "markdown",
   "id": "34cc7e8c",
   "metadata": {},
   "source": [
    "#### Write a program which offers various discounts based on purchase bills"
   ]
  },
  {
   "cell_type": "code",
   "execution_count": 38,
   "id": "a0e99743",
   "metadata": {},
   "outputs": [
    {
     "name": "stdout",
     "output_type": "stream",
     "text": [
      "Enter shopping total :  898\n",
      "You won a discount voucher of flat 1000 on next purchase\n"
     ]
    }
   ],
   "source": [
    "shoppinng_total = int(input(\"Enter shopping total :  \"))\n",
    "\n",
    "if shoppinng_total >= 500:\n",
    "    print(\"You won a discount voucher of flat 1000 on next purchase\")\n",
    "elif shoppinng_total >= 250:\n",
    "    print(\"You won a discount voucher of flat 500 on next purchase\")\n",
    "elif shoppinng_total >= 100:\n",
    "    print(\"You won a discount voucher of flat 100 on next purchase\")    \n",
    "else:\n",
    "    print(\"OOPS!! no discount for you!!!\")"
   ]
  },
  {
   "cell_type": "markdown",
   "id": "b1700a41",
   "metadata": {},
   "source": [
    "#### Example on nested if-else"
   ]
  },
  {
   "cell_type": "code",
   "execution_count": 68,
   "id": "d4474619",
   "metadata": {},
   "outputs": [
    {
     "name": "stdout",
     "output_type": "stream",
     "text": [
      "Enter year to check New Zealand made it to Finals in 20th century : 2011\n",
      "New Zealand could not make it to Finals\n"
     ]
    }
   ],
   "source": [
    "world_cups = {2019 : ['England', 'New Zealand'], 2015:[\"Australia\", \"New Zealand\"], 2011 : [\"India\", \"Sri Lanka\"], 2007: [\"Australia\", \"Sri Lanka\"], 2003: [\"Australia\", \"India\"]}\n",
    "\n",
    "year = int(input(\"Enter year to check New Zealand made it to Finals in 20th century : \"))\n",
    "\n",
    "if year in world_cups :\n",
    "    if \"New Zealand\" in world_cups[year] :\n",
    "        print(\"New Zealand made it to Finals\")\n",
    "    else:\n",
    "        print(\"New Zealand could not make it to Finals\")\n",
    "        \n",
    "else:\n",
    "    print(\"World cup wasn't played in\", year)\n",
    "\n"
   ]
  },
  {
   "cell_type": "code",
   "execution_count": 64,
   "id": "780ce089",
   "metadata": {},
   "outputs": [
    {
     "data": {
      "text/plain": [
       "dict_keys([2019, 2015, 2011, 2007, 2003])"
      ]
     },
     "execution_count": 64,
     "metadata": {},
     "output_type": "execute_result"
    }
   ],
   "source": [
    "world_cups.keys()"
   ]
  },
  {
   "cell_type": "code",
   "execution_count": 65,
   "id": "87e0e2d3",
   "metadata": {},
   "outputs": [
    {
     "data": {
      "text/plain": [
       "['England', 'New Zealand']"
      ]
     },
     "execution_count": 65,
     "metadata": {},
     "output_type": "execute_result"
    }
   ],
   "source": [
    "world_cups[2019]"
   ]
  },
  {
   "cell_type": "code",
   "execution_count": 72,
   "id": "20e91250",
   "metadata": {},
   "outputs": [
    {
     "data": {
      "text/plain": [
       "dict_values([['England', 'New Zealand'], ['Australia', 'New Zealand'], ['India', 'Sri Lanka'], ['Australia', 'Sri Lanka'], ['Australia', 'India']])"
      ]
     },
     "execution_count": 72,
     "metadata": {},
     "output_type": "execute_result"
    }
   ],
   "source": [
    "world_cups.values()"
   ]
  },
  {
   "cell_type": "code",
   "execution_count": null,
   "id": "b553a757",
   "metadata": {},
   "outputs": [],
   "source": [
    "score=int(input(\"enter score :  \"))\n",
    "if score >= 90:\n",
    "   print('A')\n",
    "elif score >=80:\n",
    "   print('B')\n",
    "elif score >= 70:\n",
    "   print('C')\n",
    "elif score >= 60:\n",
    "   print('D')\n",
    "else:\n",
    "   print('F')"
   ]
  },
  {
   "cell_type": "markdown",
   "id": "d85685ca",
   "metadata": {},
   "source": [
    "### Tips: when to use Conditions\n",
    "\n",
    "-- When there is more than one condition to check and you need to:\n",
    "\n",
    "Perform a different operation at each condition involving a single variable, you use an if-elif-else condition.\n",
    "\n",
    "Just return a boolean functionality, i.e., Yes or No, you use logical operators in a single if-else construct.\n",
    "\n",
    "Perform a different operation in each condition involving different variables, you use a nested if-else construct"
   ]
  },
  {
   "cell_type": "code",
   "execution_count": 80,
   "id": "b454a496",
   "metadata": {},
   "outputs": [
    {
     "name": "stdout",
     "output_type": "stream",
     "text": [
      "Enter String : vik\n",
      "NO\n"
     ]
    }
   ],
   "source": [
    "# check if string starts with vowel\n",
    "string=input(\"Enter String : \")\n",
    "if (string[0] == 'A' or string[0] == 'a'\n",
    "        or string[0] == 'E' or string[0] == 'e'\n",
    "        or string[0] == 'I' or string[0] == 'i'\n",
    "        or string[0] == 'O' or string[0] == 'o'\n",
    "        or string[0] == 'U' or string[0] == 'u'):\n",
    "        print(\"YES\")\n",
    "else:\n",
    "        print(\"NO\")"
   ]
  },
  {
   "cell_type": "markdown",
   "id": "ec553ea5",
   "metadata": {},
   "source": [
    "<h2 style = \"color:Brown\">Loops and Iterations\n"
   ]
  },
  {
   "cell_type": "markdown",
   "id": "812f182b",
   "metadata": {},
   "source": [
    "Let's start with a simple 'While' loop - \n",
    "##### A while loop begins with a keyword 'While' followed by an expression \n",
    "##### So While this condition is satisfied keep running the loop"
   ]
  },
  {
   "cell_type": "code",
   "execution_count": 82,
   "id": "26bb6539",
   "metadata": {},
   "outputs": [
    {
     "name": "stdout",
     "output_type": "stream",
     "text": [
      "Enter the four digit pin: 2345\n",
      "Invallid pin , please try again234\n",
      "Invallid pin , please try again6543\n",
      "Invallid pin , please try again12345\n",
      "Invallid pin , please try again1234\n",
      "pin validation successful\n"
     ]
    }
   ],
   "source": [
    " # Let's create a pin checker which we generally have in our phones or ATMs\n",
    "pin=input(\"Enter the four digit pin: \")\n",
    "while pin !='1234':\n",
    "    pin=input(\"Invallid pin , please try again\")\n",
    "print(\"pin validation successful\")"
   ]
  },
  {
   "cell_type": "code",
   "execution_count": 84,
   "id": "76c7c3f4",
   "metadata": {},
   "outputs": [
    {
     "name": "stdout",
     "output_type": "stream",
     "text": [
      "Enter your four digit pin: 1234\n",
      "Pin validation successful.\n"
     ]
    }
   ],
   "source": [
    "# Now if we want to add a maximum number of tries allowed condition we'll use the if loop\n",
    "\n",
    "import sys    #required for exiting the code and displaying an error\n",
    "pin = input(\"Enter your four digit pin: \")\n",
    "attempt_count = 1\n",
    "while pin != '1234':\n",
    "    if attempt_count >= 3:\n",
    "     sys.exit(\"Too many invalid attempts\")   #error code\n",
    "    pin = input('Invalid input, please try again: ')  \n",
    "    attempt_count += 1\n",
    "print(\"Pin validation successful.\")"
   ]
  },
  {
   "cell_type": "code",
   "execution_count": 85,
   "id": "aa72d9a5",
   "metadata": {},
   "outputs": [
    {
     "name": "stdout",
     "output_type": "stream",
     "text": [
      "1\n",
      "3\n",
      "4\n",
      "2\n",
      "5\n",
      "6\n"
     ]
    }
   ],
   "source": [
    "# iterate over list of integers\n",
    "\n",
    "l = [1,3,4,2,5,6]\n",
    "for i in l : \n",
    "    print(i)"
   ]
  },
  {
   "cell_type": "code",
   "execution_count": 87,
   "id": "580808a1",
   "metadata": {},
   "outputs": [
    {
     "name": "stdout",
     "output_type": "stream",
     "text": [
      "N\n",
      "e\n",
      "w\n",
      " \n",
      "Y\n",
      "o\n",
      "r\n",
      "k\n"
     ]
    }
   ],
   "source": [
    "# iterate over a string\n",
    "\n",
    "string = \"New York\"\n",
    "for char in string:\n",
    "    print(char)"
   ]
  },
  {
   "cell_type": "code",
   "execution_count": 89,
   "id": "0b62d034",
   "metadata": {},
   "outputs": [
    {
     "name": "stdout",
     "output_type": "stream",
     "text": [
      "N:e:w: :Y:o:r:k:"
     ]
    }
   ],
   "source": [
    "# iterate over a string - modify print using end\n",
    "\n",
    "string = \"New York\"\n",
    "for ch in string:\n",
    "    print(ch, end = \":\") # default value of end = \"\\n\""
   ]
  },
  {
   "cell_type": "markdown",
   "id": "921357b7",
   "metadata": {},
   "source": [
    "###### FOR loop syntax:\n",
    "\n",
    "#for val in seq :\n",
    "\n",
    "statements\n",
    "\n",
    "A few things to note in the syntax include:\n",
    "\n",
    "seq, which represents a sequence; it can be a list, a tuple or a string. To put it in a simple way it can be any iterable object.\n",
    "\n",
    "The in operator, which, as you may recall, is a membership operator that helps to check for the presence of an element in a sequence. "
   ]
  },
  {
   "cell_type": "code",
   "execution_count": 92,
   "id": "19720a7a",
   "metadata": {},
   "outputs": [
    {
     "name": "stdout",
     "output_type": "stream",
     "text": [
      "1 ['Sam', 24]\n",
      "2 ['Rob', 25]\n",
      "3 ['Jack', 26]\n",
      "4 ['Cornor', 24]\n",
      "5 ['Trump', 27]\n"
     ]
    }
   ],
   "source": [
    "# iterating over a dictionary\n",
    "\n",
    "students_data = {1:['Sam', 24] , 2:['Rob',25], 3:['Jack', 26], 4:['Cornor',24], 5:['Trump',27]}\n",
    "for key, val in students_data.items():\n",
    "    print(key, val)"
   ]
  },
  {
   "cell_type": "code",
   "execution_count": 93,
   "id": "08c897ef",
   "metadata": {},
   "outputs": [
    {
     "name": "stdout",
     "output_type": "stream",
     "text": [
      "1\n",
      "2\n",
      "3\n",
      "4\n",
      "5\n"
     ]
    }
   ],
   "source": [
    "# iterate over keys of a dictionary\n",
    "for key in students_data.keys():\n",
    "    print(key)"
   ]
  },
  {
   "cell_type": "code",
   "execution_count": 94,
   "id": "f2d3b78f",
   "metadata": {},
   "outputs": [
    {
     "name": "stdout",
     "output_type": "stream",
     "text": [
      "2\n",
      "6\n",
      "15\n",
      "4\n",
      "8\n"
     ]
    }
   ],
   "source": [
    "L1 = [10, 20, 30, 24, 18]\n",
    "L2 = [8, 14, 15, 20, 10]\n",
    "L3 = [0, 1, 2, 3, 4]\n",
    "\n",
    "for i in L3:\n",
    "    L3[i] = L1[i] - L2[i]\n",
    "    print(L3[i])"
   ]
  },
  {
   "cell_type": "code",
   "execution_count": 117,
   "id": "e6381c3e",
   "metadata": {},
   "outputs": [
    {
     "name": "stdout",
     "output_type": "stream",
     "text": [
      "2\n",
      "3\n",
      "4 is not a prime  2\n",
      "5\n",
      "6 is not a prime  2\n",
      "7\n",
      "8 is not a prime  2\n",
      "9 is not a prime  3\n",
      "10 is not a prime  2\n",
      "11\n",
      "12 is not a prime  2\n",
      "13\n",
      "14 is not a prime  2\n",
      "15 is not a prime  3\n",
      "16 is not a prime  2\n",
      "17\n",
      "18 is not a prime  2\n",
      "19\n"
     ]
    }
   ],
   "source": [
    "#### Ex. Write a program to print prime numbers between 1 to 20\n",
    "for n in range(2,20): # n=7\n",
    "    flag=True\n",
    "    for i in range(2,n): # i=2,3,4,5,6\n",
    "        if n%i==0 :\n",
    "            print(n, \"is not a prime \", i)\n",
    "            flag=False\n",
    "            break\n",
    "    if flag: # we can also write as if flag==True\n",
    "        print(n)"
   ]
  },
  {
   "cell_type": "code",
   "execution_count": 101,
   "id": "02a2cd90",
   "metadata": {},
   "outputs": [
    {
     "data": {
      "text/plain": [
       "[2]"
      ]
     },
     "execution_count": 101,
     "metadata": {},
     "output_type": "execute_result"
    }
   ],
   "source": [
    "p=list(range(2,3))\n",
    "p"
   ]
  },
  {
   "cell_type": "code",
   "execution_count": 109,
   "id": "3045c4b5",
   "metadata": {},
   "outputs": [
    {
     "data": {
      "text/plain": [
       "[-2, -6, -15, -4, -8]"
      ]
     },
     "execution_count": 109,
     "metadata": {},
     "output_type": "execute_result"
    }
   ],
   "source": [
    "L1 = [10, 20, 30, 24, 18]\n",
    "L2 = [8, 14, 15, 20, 10]\n",
    "L3=[]\n",
    "for  i in range(len(L2)):\n",
    "    L3.append(L2[i] - L1[i])\n",
    "L3"
   ]
  },
  {
   "cell_type": "code",
   "execution_count": 112,
   "id": "988f6dd0",
   "metadata": {},
   "outputs": [
    {
     "data": {
      "text/plain": [
       "'Viki'"
      ]
     },
     "execution_count": 112,
     "metadata": {},
     "output_type": "execute_result"
    }
   ],
   "source": [
    "o=\"viki\"\n",
    "o.capitalize()\n"
   ]
  },
  {
   "cell_type": "code",
   "execution_count": 124,
   "id": "5dc283ea",
   "metadata": {},
   "outputs": [
    {
     "data": {
      "text/plain": [
       "[-10, -8, -6, -4, -2]"
      ]
     },
     "execution_count": 124,
     "metadata": {},
     "output_type": "execute_result"
    }
   ],
   "source": [
    "l = []\n",
    "for i in range(-10, 0):\n",
    "    if(i % 2 == 0):\n",
    "        l.append(i)\n",
    "l\n"
   ]
  },
  {
   "cell_type": "code",
   "execution_count": 125,
   "id": "653660ab",
   "metadata": {},
   "outputs": [
    {
     "name": "stdout",
     "output_type": "stream",
     "text": [
      "0\n",
      "1\n",
      "2\n"
     ]
    }
   ],
   "source": [
    "d = {0: 'Fish', 1: 'Bird', 2: 'Mammal'}\n",
    "for i in d:\n",
    "    print(i)"
   ]
  },
  {
   "cell_type": "code",
   "execution_count": 138,
   "id": "3e580659",
   "metadata": {},
   "outputs": [
    {
     "data": {
      "text/plain": [
       "81"
      ]
     },
     "execution_count": 138,
     "metadata": {},
     "output_type": "execute_result"
    }
   ],
   "source": [
    "3*3**3"
   ]
  },
  {
   "cell_type": "code",
   "execution_count": 141,
   "id": "d92e3deb",
   "metadata": {},
   "outputs": [
    {
     "ename": "NameError",
     "evalue": "name 'paragraph' is not defined",
     "output_type": "error",
     "traceback": [
      "\u001b[0;31m---------------------------------------------------------------------------\u001b[0m",
      "\u001b[0;31mNameError\u001b[0m                                 Traceback (most recent call last)",
      "Input \u001b[0;32mIn [141]\u001b[0m, in \u001b[0;36m<cell line: 1>\u001b[0;34m()\u001b[0m\n\u001b[0;32m----> 1\u001b[0m \u001b[38;5;28;01mfor\u001b[39;00m sentence \u001b[38;5;129;01min\u001b[39;00m \u001b[43mparagraph\u001b[49m:\n\u001b[1;32m      2\u001b[0m     \u001b[38;5;28;01mfor\u001b[39;00m word \u001b[38;5;129;01min\u001b[39;00m sentence\u001b[38;5;241m.\u001b[39msplit():\n\u001b[1;32m      3\u001b[0m         single_word_list\u001b[38;5;241m.\u001b[39mappend(word)\n",
      "\u001b[0;31mNameError\u001b[0m: name 'paragraph' is not defined"
     ]
    }
   ],
   "source": [
    "for sentence in paragraph:\n",
    "    for word in sentence.split():\n",
    "        single_word_list.append(word)"
   ]
  },
  {
   "cell_type": "markdown",
   "id": "fd9702ba",
   "metadata": {},
   "source": [
    "<h2 style = \"color:Brown\">Comprehensions"
   ]
  },
  {
   "cell_type": "code",
   "execution_count": 1,
   "id": "db6cb68d",
   "metadata": {},
   "outputs": [
    {
     "data": {
      "text/plain": [
       "[11, 5, 4, 6, 14]"
      ]
     },
     "execution_count": 1,
     "metadata": {},
     "output_type": "execute_result"
    }
   ],
   "source": [
    "l1 = [\"automobiles\", \"Honda\", \"Benz\", \"Suzuki\", \"Morris Garages\" ]\n",
    "\n",
    "l2 = []\n",
    "\n",
    "for i in l1 :\n",
    "    l2.append(len(i))\n",
    "    \n",
    "l2 "
   ]
  },
  {
   "cell_type": "markdown",
   "id": "37d3a3f7",
   "metadata": {},
   "source": [
    "#### FUNCTIONAL APPROACH"
   ]
  },
  {
   "cell_type": "code",
   "execution_count": 2,
   "id": "42c4ddc4",
   "metadata": {},
   "outputs": [
    {
     "name": "stdout",
     "output_type": "stream",
     "text": [
      "[11, 5, 4, 6, 14]\n"
     ]
    }
   ],
   "source": [
    "# Example on list comprehension\n",
    "\n",
    "l1 = [\"automobiles\", \"Honda\", \"Benz\", \"Suzuki\", \"Morris Garages\" ]\n",
    "\n",
    "# Create a list consisting of length of each element from the above list\n",
    "\n",
    "l2 = [len(i) for i in l1]\n",
    "\n",
    "print(l2)"
   ]
  },
  {
   "cell_type": "code",
   "execution_count": 3,
   "id": "acf91f2d",
   "metadata": {},
   "outputs": [
    {
     "name": "stdout",
     "output_type": "stream",
     "text": [
      "automobiles  -  11\n",
      "Honda  -  5\n",
      "Benz  -  4\n",
      "Suzuki  -  6\n",
      "Morris Garages  -  14\n"
     ]
    }
   ],
   "source": [
    "# iterating over l1 and l2 simultaneously\n",
    "\n",
    "for i,j in zip(l1,l2):\n",
    "    print(i, \" - \", j)"
   ]
  },
  {
   "cell_type": "code",
   "execution_count": 4,
   "id": "b15af4f1",
   "metadata": {},
   "outputs": [
    {
     "data": {
      "text/plain": [
       "[2, 6, 15, 4, 8]"
      ]
     },
     "execution_count": 4,
     "metadata": {},
     "output_type": "execute_result"
    }
   ],
   "source": [
    "# Using list comprehensions is much more concise and elegant than explicit for loops. \n",
    "# An example of creating a list using a loop is as follows:\n",
    "L1 = [10, 20, 30, 24, 18]\n",
    "L2 = [8, 14, 15, 20, 10]\n",
    "L3 = []\n",
    "for  i in range(len(L1)):\n",
    "    L3.append(L1[i] - L2[i])\n",
    "L3"
   ]
  },
  {
   "cell_type": "code",
   "execution_count": 10,
   "id": "93f4bebf",
   "metadata": {},
   "outputs": [
    {
     "data": {
      "text/plain": [
       "[2, 6, 15, 4, 8]"
      ]
     },
     "execution_count": 10,
     "metadata": {},
     "output_type": "execute_result"
    }
   ],
   "source": [
    "# Same above code using a list comprehension is as follows:\n",
    "L1 = [10, 20, 30, 24, 18]\n",
    "L2 = [8, 14, 15, 20, 10]\n",
    "L3=[L1[i]-L2[i] for i in range(0,len(L1))]\n",
    "L3"
   ]
  },
  {
   "cell_type": "markdown",
   "id": "b8a99652",
   "metadata": {},
   "source": [
    "#### Dictionary comprehension"
   ]
  },
  {
   "cell_type": "code",
   "execution_count": 18,
   "id": "42f16fa5",
   "metadata": {},
   "outputs": [
    {
     "name": "stdout",
     "output_type": "stream",
     "text": [
      "{'automobiles': 11, 'Honda': 5, 'Benz': 4, 'Suzuki': 6, 'Morris Garages': 14}\n"
     ]
    }
   ],
   "source": [
    "l1 = [\"automobiles\", \"Honda\", \"Benz\", \"Suzuki\", \"Morris Garages\" ]\n",
    "# create dictionary consisting of elements and lenghts of each from L1 list\n",
    "d={i: len(i) for i in l1}\n",
    "print(d)"
   ]
  },
  {
   "cell_type": "code",
   "execution_count": 30,
   "id": "6ff85e7b",
   "metadata": {},
   "outputs": [
    {
     "name": "stdout",
     "output_type": "stream",
     "text": [
      "{2: 4, 4: 16, 6: 36, 8: 64, 10: 100, 12: 144, 14: 196, 16: 256, 18: 324, 20: 400}\n"
     ]
    }
   ],
   "source": [
    "# let’s create a dictionary that has the first ten even natural numbers \n",
    "# as keys and the square of each number as the value to the key.\n",
    "ordinary_dict ={}\n",
    "\n",
    "for i in range(2,21):\n",
    "    if i % 2 == 0:\n",
    "        ordinary_dict[i] = i**2\n",
    "\n",
    "print(ordinary_dict)"
   ]
  },
  {
   "cell_type": "code",
   "execution_count": 31,
   "id": "de4125bc",
   "metadata": {},
   "outputs": [
    {
     "name": "stdout",
     "output_type": "stream",
     "text": [
      "{2: 4, 4: 16, 6: 36, 8: 64, 10: 100, 12: 144, 14: 196, 16: 256, 18: 324, 20: 400}\n"
     ]
    }
   ],
   "source": [
    "# the same code above in dictionary comprehension:\n",
    "update_dict={i:i**2 for i in range(2,21) if i%2==0}\n",
    "print(update_dict)"
   ]
  },
  {
   "cell_type": "markdown",
   "id": "5aba8f19",
   "metadata": {},
   "source": [
    "#### Set Comprehensions\n",
    "\n",
    "#### Ex . Write a program which takes a word as input from user and returns vowels from the word"
   ]
  },
  {
   "cell_type": "code",
   "execution_count": 32,
   "id": "bc875b7c",
   "metadata": {},
   "outputs": [
    {
     "name": "stdout",
     "output_type": "stream",
     "text": [
      "Enter a word : guhibsjgiq\n"
     ]
    },
    {
     "data": {
      "text/plain": [
       "{'i', 'u'}"
      ]
     },
     "execution_count": 32,
     "metadata": {},
     "output_type": "execute_result"
    }
   ],
   "source": [
    "word = input(\"Enter a word : \")\n",
    "vowels = {i for i in word if i in \"aeiou\"}\n",
    "vowels"
   ]
  },
  {
   "cell_type": "code",
   "execution_count": 100,
   "id": "d3db0941",
   "metadata": {},
   "outputs": [
    {
     "name": "stdout",
     "output_type": "stream",
     "text": [
      "Enter a word : vikram\n",
      "{'a', 'i'}\n",
      "['v', 'i', 'k', 'r', 'a', 'm']\n"
     ]
    }
   ],
   "source": [
    "new_word=set()\n",
    "new1=list()\n",
    "new2=tuple()\n",
    "wword = input(\"Enter a word : \")\n",
    "for i in wword:\n",
    "    new1.append(i)\n",
    "    if i in \"aeiou\":\n",
    "        new_word.add(i)\n",
    "print(new_word)\n",
    "print(new1)\n",
    "\n"
   ]
  },
  {
   "cell_type": "markdown",
   "id": "072b9dc5",
   "metadata": {},
   "source": []
  },
  {
   "cell_type": "code",
   "execution_count": 101,
   "id": "274a94ed",
   "metadata": {},
   "outputs": [
    {
     "name": "stdout",
     "output_type": "stream",
     "text": [
      "['apple', 'orange', 'otter', 'iguana', 'eagle']\n"
     ]
    }
   ],
   "source": [
    "words = ['apple', 'orange', 'pear', 'milk', 'otter', 'snake','iguana','tiger','eagle']\n",
    "vowel=[]\n",
    "for word in words:\n",
    "    if word[0] in \"aeiou\":\n",
    "        vowel.append(word)\n",
    "print (vowel)"
   ]
  },
  {
   "cell_type": "code",
   "execution_count": 103,
   "id": "75386f40",
   "metadata": {},
   "outputs": [
    {
     "name": "stdout",
     "output_type": "stream",
     "text": [
      "['apple', 'orange', 'otter', 'iguana', 'eagle']\n"
     ]
    }
   ],
   "source": [
    "# same above code in list comprehension\n",
    "words1 = ['apple', 'orange', 'pear', 'milk', 'otter', 'snake','iguana','tiger','eagle']\n",
    "list_vowel =[w for w in words1 if w[0] in \"aeiou\"]\n",
    "print(list_vowel)"
   ]
  },
  {
   "cell_type": "code",
   "execution_count": 104,
   "id": "5254cd59",
   "metadata": {},
   "outputs": [
    {
     "name": "stdout",
     "output_type": "stream",
     "text": [
      "['ad', 'ae', 'af', 'bd', 'be', 'bf', 'cd', 'ce', 'cf']\n"
     ]
    }
   ],
   "source": [
    "print([i+j for i in \"abc\" for j in \"def\"])"
   ]
  },
  {
   "cell_type": "markdown",
   "id": "dcc39641",
   "metadata": {},
   "source": [
    "<h2 style = \"color:Brown\">Functions</h2>\n",
    "\n",
    "#### Ex. Write a function which takes a value as a parameter and returns its factorial"
   ]
  },
  {
   "cell_type": "code",
   "execution_count": 118,
   "id": "2a508d4b",
   "metadata": {},
   "outputs": [
    {
     "data": {
      "text/plain": [
       "3628800"
      ]
     },
     "execution_count": 118,
     "metadata": {},
     "output_type": "execute_result"
    }
   ],
   "source": [
    "def factorial(n):\n",
    "    fact=1\n",
    "    for i in range(1,n+1):\n",
    "        # fact=fact*i # same the below one do the job \n",
    "        fact*=i \n",
    "    return fact\n",
    "factorial(10)"
   ]
  },
  {
   "cell_type": "markdown",
   "id": "0a6bc331",
   "metadata": {},
   "source": [
    "### Function Arguments "
   ]
  },
  {
   "cell_type": "code",
   "execution_count": 128,
   "id": "e2ffa283",
   "metadata": {},
   "outputs": [
    {
     "name": "stdout",
     "output_type": "stream",
     "text": [
      "name :  jane\n",
      "age :  35\n",
      "name :  Viki\n",
      "age :  18\n"
     ]
    }
   ],
   "source": [
    "def func(name, age = 35):  # default parameter\n",
    "    print(\"name : \", name)\n",
    "    print(\"age : \", age)\n",
    "func(\"jane\",) # default parameter argument wil pass if you not passing \n",
    "func(\"Viki\",\"18\")"
   ]
  },
  {
   "cell_type": "code",
   "execution_count": 132,
   "id": "1d280c87",
   "metadata": {},
   "outputs": [
    {
     "name": "stdout",
     "output_type": "stream",
     "text": [
      "name :  Jane\n",
      "age :  35\n",
      "city :  Seattle\n",
      "name :  Jane\n",
      "age :  13\n",
      "city :  Seattle\n",
      "name :  Vi\n",
      "age :  \n",
      "city :  Seattle\n"
     ]
    }
   ],
   "source": [
    "def func(name, age = 35, city = \"New York\"):\n",
    "    print(\"name : \", name)\n",
    "    print(\"age : \", age)\n",
    "    print(\"city : \", city)\n",
    "    \n",
    "func(\"Jane\", city = \"Seattle\") # key-word argument if yiu are missing any paramter in. between other parameter name shoupd pass\n",
    "func(\"Jane\",13,\"Seattle\")\n",
    "func(\"Vi\", \"\",city = \"Seattle\")"
   ]
  },
  {
   "cell_type": "markdown",
   "id": "164ae4a2",
   "metadata": {},
   "source": []
  },
  {
   "cell_type": "code",
   "execution_count": 155,
   "id": "d188edfa",
   "metadata": {},
   "outputs": [
    {
     "name": "stdout",
     "output_type": "stream",
     "text": [
      "(1, 3, 'abc')\n"
     ]
    }
   ],
   "source": [
    "def var_func(*args):\n",
    "    print(args)\n",
    "            \n",
    "var_func(1,3,\"abc\") # variable-length argument"
   ]
  },
  {
   "cell_type": "code",
   "execution_count": 154,
   "id": "aa9e74e4",
   "metadata": {},
   "outputs": [
    {
     "ename": "IndentationError",
     "evalue": "expected an indented block (3925612875.py, line 1)",
     "output_type": "error",
     "traceback": [
      "\u001b[0;36m  Input \u001b[0;32mIn [154]\u001b[0;36m\u001b[0m\n\u001b[0;31m    def fun(L1,L2):\u001b[0m\n\u001b[0m                   ^\u001b[0m\n\u001b[0;31mIndentationError\u001b[0m\u001b[0;31m:\u001b[0m expected an indented block\n"
     ]
    }
   ],
   "source": [
    "def fun(L1,L2):"
   ]
  },
  {
   "cell_type": "code",
   "execution_count": 164,
   "id": "4599e78b",
   "metadata": {},
   "outputs": [
    {
     "name": "stdout",
     "output_type": "stream",
     "text": [
      "[2, 6, 15, 4, 8]\n"
     ]
    }
   ],
   "source": [
    "def fun_list(list1,list2):\n",
    "    list3 = []\n",
    "    for i in range(0,len(list1)):\n",
    "        list3.append(list1[i]-list2[i])\n",
    "    return list3\n",
    "\n",
    "list1 = [10, 20, 30, 24, 18]\n",
    "list2 = [8, 14, 15, 20, 10]\n",
    "\n",
    "x=fun_list(list1,list2)\n",
    "print(x)\n"
   ]
  },
  {
   "cell_type": "code",
   "execution_count": 176,
   "id": "15bf1cf4",
   "metadata": {},
   "outputs": [
    {
     "data": {
      "text/plain": [
       "35"
      ]
     },
     "execution_count": 176,
     "metadata": {},
     "output_type": "execute_result"
    }
   ],
   "source": [
    "def func(x=1, y = 2):\n",
    "    z = x * y + x + y\n",
    "    return z\n",
    "func(2,11)\n",
    "#func(2, func(3))"
   ]
  },
  {
   "cell_type": "markdown",
   "id": "befad67c",
   "metadata": {},
   "source": [
    "#### Functions can be used inside a list comprehension too. An example to create a list, \n",
    "the elements of which would be the result of applying the function \n",
    "x^2-2y-2\n",
    " on each element in the list = [2, 7, 8, 10, 3]"
   ]
  },
  {
   "cell_type": "code",
   "execution_count": 181,
   "id": "5b343f92",
   "metadata": {},
   "outputs": [
    {
     "data": {
      "text/plain": [
       "[-2, 33, 46, 78, 1]"
      ]
     },
     "execution_count": 181,
     "metadata": {},
     "output_type": "execute_result"
    }
   ],
   "source": [
    "L1 = [2, 7, 8, 10, 3]\n",
    "\n",
    "def func(y):\n",
    "    return y**2- 2 * y - 2\n",
    "\n",
    "ans_list = [func(x) for  x in L1 ]\n",
    "ans_list"
   ]
  },
  {
   "cell_type": "markdown",
   "id": "d691c555",
   "metadata": {},
   "source": [
    "### LAMDA FUNCTION\n",
    "\n",
    "are another way of defining functions to execute small functionalities occurring while implementing a complex functionality. These functions can take multiple parameters as input but can only execute a single expression; in other words, they can only perform a single operation.\n",
    "\n",
    "\n",
    "\n",
    "#####     The format of a lambda expression is as follows:\n",
    "function_name  = lambda <space>  input_parameters :  output_parameters \n",
    "    \n",
    "For example: diff = lambda x,y : x-y is a lambda function to find the difference of two elements."
   ]
  },
  {
   "cell_type": "code",
   "execution_count": 182,
   "id": "98c01533",
   "metadata": {},
   "outputs": [
    {
     "data": {
      "text/plain": [
       "'even'"
      ]
     },
     "execution_count": 182,
     "metadata": {},
     "output_type": "execute_result"
    }
   ],
   "source": [
    "# Write a lambda function to check a number is even or odd\n",
    "\n",
    "f = lambda x: \"even\" if x % 2 == 0 else \"odd\"\n",
    "\n",
    "f(10)"
   ]
  },
  {
   "cell_type": "code",
   "execution_count": 196,
   "id": "2ae70c35",
   "metadata": {},
   "outputs": [
    {
     "data": {
      "text/plain": [
       "'even'"
      ]
     },
     "execution_count": 196,
     "metadata": {},
     "output_type": "execute_result"
    }
   ],
   "source": [
    "diff=lambda x,y: \"even\" if (x-y)%2==0 else \"odd\"\n",
    "diff(12,2)\n"
   ]
  },
  {
   "cell_type": "code",
   "execution_count": 197,
   "id": "679644a0",
   "metadata": {},
   "outputs": [
    {
     "data": {
      "text/plain": [
       "2"
      ]
     },
     "execution_count": 197,
     "metadata": {},
     "output_type": "execute_result"
    }
   ],
   "source": [
    "diff1=lambda x,y:x-y\n",
    "diff1(3,1)"
   ]
  },
  {
   "cell_type": "code",
   "execution_count": 200,
   "id": "2b9cc3e0",
   "metadata": {},
   "outputs": [
    {
     "data": {
      "text/plain": [
       "3"
      ]
     },
     "execution_count": 200,
     "metadata": {},
     "output_type": "execute_result"
    }
   ],
   "source": [
    "greater=lambda x,y: x if x>y else y\n",
    "greater(2,3)"
   ]
  },
  {
   "cell_type": "markdown",
   "id": "e66a30e9",
   "metadata": {},
   "source": [
    "####  MAP - Filter - Reduce"
   ]
  },
  {
   "cell_type": "markdown",
   "id": "4d7361c4",
   "metadata": {},
   "source": [
    "#### MAP\n",
    "\n",
    "\n",
    "-Map is a function that works like list comprehensions and for loops. \n",
    "-It is used when you need to map or implement functions on various elements at the same time.\n",
    "\n",
    "The syntax of the map function looks as shown below:\n",
    "\n",
    "map(function,iterable object)\n",
    "\n",
    "The function here can be a lambda function or a function object.\n",
    "\n",
    "The iterable object can be a string, list, tuple, set or dictionary."
   ]
  },
  {
   "cell_type": "code",
   "execution_count": 202,
   "id": "192aa78e",
   "metadata": {},
   "outputs": [
    {
     "data": {
      "text/plain": [
       "'INDIA'"
      ]
     },
     "execution_count": 202,
     "metadata": {},
     "output_type": "execute_result"
    }
   ],
   "source": [
    "# --> Using Lambda \n",
    "countries=[\"India\",\"Japan\",\"Usa\",\"France\",\"Malaysia\"]  \n",
    "f=lambda x:x.upper()\n",
    "f(\"India\")"
   ]
  },
  {
   "cell_type": "code",
   "execution_count": 203,
   "id": "4342b39e",
   "metadata": {},
   "outputs": [
    {
     "data": {
      "text/plain": [
       "['INDIA', 'JAPAN', 'USA', 'FRANCE', 'MALAYSIA']"
      ]
     },
     "execution_count": 203,
     "metadata": {},
     "output_type": "execute_result"
    }
   ],
   "source": [
    "# Using For loop\n",
    "capital_countries=[]\n",
    "for country in countries :\n",
    "    capital_countries.append(f(country))\n",
    "capital_countries"
   ]
  },
  {
   "cell_type": "code",
   "execution_count": 211,
   "id": "94773068",
   "metadata": {},
   "outputs": [
    {
     "data": {
      "text/plain": [
       "['INDIA', 'JAPAN', 'USA', 'FRANCE', 'MALAYSIA']"
      ]
     },
     "execution_count": 211,
     "metadata": {},
     "output_type": "execute_result"
    }
   ],
   "source": [
    "# Map ( function ,collection_or_List)\n",
    "\n",
    "list(map(lambda x : x.upper(),countries))\n"
   ]
  },
  {
   "cell_type": "code",
   "execution_count": 212,
   "id": "ae9c3742",
   "metadata": {},
   "outputs": [
    {
     "data": {
      "text/plain": [
       "['COUNTRIES', 'INDIA', 'HELLO']"
      ]
     },
     "execution_count": 212,
     "metadata": {},
     "output_type": "execute_result"
    }
   ],
   "source": [
    "list(map(lambda x : x.upper(),(\"countries\",\"India\",\"Hello\")))"
   ]
  },
  {
   "cell_type": "code",
   "execution_count": 213,
   "id": "db013374",
   "metadata": {},
   "outputs": [
    {
     "data": {
      "text/plain": [
       "<map at 0x7f9fadc687c0>"
      ]
     },
     "execution_count": 213,
     "metadata": {},
     "output_type": "execute_result"
    }
   ],
   "source": [
    "(map(lambda x : x.upper(),countries))"
   ]
  },
  {
   "cell_type": "code",
   "execution_count": 220,
   "id": "8655d4d5",
   "metadata": {},
   "outputs": [
    {
     "data": {
      "text/plain": [
       "[4, 9, 16, 25]"
      ]
     },
     "execution_count": 220,
     "metadata": {},
     "output_type": "execute_result"
    }
   ],
   "source": [
    "# combination of Lambda and Map\n",
    "L1=[2,3,4,5]\n",
    "f_square=lambda x:x**2\n",
    "list(map(f_square,L1))"
   ]
  },
  {
   "cell_type": "markdown",
   "id": "76411100",
   "metadata": {},
   "source": []
  },
  {
   "cell_type": "code",
   "execution_count": 222,
   "id": "7bcd8597",
   "metadata": {},
   "outputs": [
    {
     "data": {
      "text/plain": [
       "[4, 9, 16, 25]"
      ]
     },
     "execution_count": 222,
     "metadata": {},
     "output_type": "execute_result"
    }
   ],
   "source": [
    "list(map(lambda x:x**2,L1))"
   ]
  },
  {
   "cell_type": "markdown",
   "id": "3aeeca5b",
   "metadata": {},
   "source": [
    "##### Defining a function and using it in map\n",
    "\n",
    "\n",
    "In the implementation of the map function, the lambda function lambda x: x*2 would return a lambda object, but the map handles the job of passing each element of the iterable to the lambda object and storing the value obtained in a map object. Using the list function on the map object, you finally obtain the output list. "
   ]
  },
  {
   "cell_type": "code",
   "execution_count": 224,
   "id": "59614450",
   "metadata": {},
   "outputs": [
    {
     "name": "stdout",
     "output_type": "stream",
     "text": [
      "[4, 16, 25]\n"
     ]
    }
   ],
   "source": [
    "L1 = [2,4,5]\n",
    "def squareit(n):\n",
    "    return n**2\n",
    "\n",
    "print(list(map(squareit, L1)))"
   ]
  },
  {
   "cell_type": "code",
   "execution_count": 227,
   "id": "d9dc3e4f",
   "metadata": {},
   "outputs": [
    {
     "name": "stdout",
     "output_type": "stream",
     "text": [
      "[2, 4, 6, 8]\n"
     ]
    }
   ],
   "source": [
    "list_numbers = (1,2,3,4)\n",
    "sample_map = map(lambda x: x*2, list_numbers)\n",
    "print(list(sample_map))"
   ]
  },
  {
   "cell_type": "code",
   "execution_count": 228,
   "id": "c2aae053",
   "metadata": {},
   "outputs": [
    {
     "name": "stdout",
     "output_type": "stream",
     "text": [
      "[2, 4, 6, 8]\n"
     ]
    }
   ],
   "source": [
    "def multi(x):\n",
    "    return x*2\n",
    "\n",
    "list_numbers = [1,2,3,4]\n",
    "sample_map = map(multi, list_numbers)\n",
    "\n",
    "print(list(sample_map))"
   ]
  },
  {
   "cell_type": "markdown",
   "id": "f0e00803",
   "metadata": {},
   "source": [
    "#### Filter function\n",
    "\n",
    "filter function to return the multiples of 3 \n",
    "\n",
    "Filter' is similar to map function, only distinguishing feature being that it requires the function to look for a condition and then returns only those elements from the collection that satisfy the condition.\n",
    "\n",
    "\n",
    "The syntax of the filter function looks as shown below:\n",
    "\n",
    "filter(function,iterable object)\n",
    "\n",
    " The function object passed to the filter function should always return a boolean value.\n",
    "The iterable object can be a string, list, tuple, set or dictionary."
   ]
  },
  {
   "cell_type": "code",
   "execution_count": 229,
   "id": "81411c56",
   "metadata": {},
   "outputs": [
    {
     "name": "stdout",
     "output_type": "stream",
     "text": [
      "[3, 6, 9]\n"
     ]
    }
   ],
   "source": [
    "my_list = [3,4,5,6,7,8,9]\n",
    "\n",
    "divby3 = lambda x:  x % 3 == 0\n",
    "\n",
    "div = filter(divby3, my_list)\n",
    "print(list(div))\n"
   ]
  },
  {
   "cell_type": "code",
   "execution_count": 242,
   "id": "484cef85",
   "metadata": {},
   "outputs": [
    {
     "data": {
      "text/plain": [
       "{3, 6, 9}"
      ]
     },
     "execution_count": 242,
     "metadata": {},
     "output_type": "execute_result"
    }
   ],
   "source": [
    "my_list = [3,4,5,6,7,8,9]\n",
    "\n",
    "set(filter(lambda x:  x % 3 == 0,my_list))\n"
   ]
  },
  {
   "cell_type": "code",
   "execution_count": 246,
   "id": "fb9586bc",
   "metadata": {},
   "outputs": [
    {
     "data": {
      "text/plain": [
       "[3, 6, 9]"
      ]
     },
     "execution_count": 246,
     "metadata": {},
     "output_type": "execute_result"
    }
   ],
   "source": [
    "my_list = [3,4,5,6,7,8,9]\n",
    "\n",
    "list(filter(lambda x:  x % 3 == 0,my_list))"
   ]
  },
  {
   "cell_type": "markdown",
   "id": "feb32001",
   "metadata": {},
   "source": [
    "#### Ex. Write a python program to count the students above age 18"
   ]
  },
  {
   "cell_type": "code",
   "execution_count": 288,
   "id": "6edf5cae",
   "metadata": {},
   "outputs": [
    {
     "data": {
      "text/plain": [
       "[['Cornor', 19], ['Trump', 20]]"
      ]
     },
     "execution_count": 288,
     "metadata": {},
     "output_type": "execute_result"
    }
   ],
   "source": [
    "students_data = {1:['Sam', 15] , 2:['Rob',18], 3:['Kyle', 16], 4:['Cornor',19], 5:['Trump',20]}\n",
    "\n",
    "list(filter(lambda x:x[1] >18 ,students_data.values()))"
   ]
  },
  {
   "cell_type": "code",
   "execution_count": 293,
   "id": "e13c8cbb",
   "metadata": {},
   "outputs": [
    {
     "name": "stdout",
     "output_type": "stream",
     "text": [
      "Cornor 19\n",
      "Trump 20\n"
     ]
    }
   ],
   "source": [
    "for x in students_data.values():\n",
    "    if x[1] >18 :\n",
    "        print(x[0],x[1])\n"
   ]
  },
  {
   "cell_type": "code",
   "execution_count": 296,
   "id": "93d2ee61",
   "metadata": {},
   "outputs": [
    {
     "data": {
      "text/plain": [
       "False"
      ]
     },
     "execution_count": 296,
     "metadata": {},
     "output_type": "execute_result"
    }
   ],
   "source": [
    "f=lambda x: x[1] > 18"
   ]
  },
  {
   "cell_type": "code",
   "execution_count": 306,
   "id": "924cf7aa",
   "metadata": {},
   "outputs": [
    {
     "data": {
      "text/plain": [
       "[['Cornor', 19], ['Trump', 20]]"
      ]
     },
     "execution_count": 306,
     "metadata": {},
     "output_type": "execute_result"
    }
   ],
   "source": [
    "list_older_than_18=list(filter(f,students_data.values()))\n",
    "list_older_than_18"
   ]
  },
  {
   "cell_type": "code",
   "execution_count": 304,
   "id": "f9d6428b",
   "metadata": {},
   "outputs": [
    {
     "data": {
      "text/plain": [
       "2"
      ]
     },
     "execution_count": 304,
     "metadata": {},
     "output_type": "execute_result"
    }
   ],
   "source": [
    "len(list_older_than_18)"
   ]
  },
  {
   "cell_type": "code",
   "execution_count": 305,
   "id": "4ba8457f",
   "metadata": {},
   "outputs": [
    {
     "data": {
      "text/plain": [
       "2"
      ]
     },
     "execution_count": 305,
     "metadata": {},
     "output_type": "execute_result"
    }
   ],
   "source": [
    "len(list(filter(f,students_data.values())))"
   ]
  },
  {
   "cell_type": "markdown",
   "id": "775104dc",
   "metadata": {},
   "source": [
    "####  'Reduce'  - Function\n",
    "is an operation that breaks down the entire process into pair-wise operations and uses the result from each operation, with the successive element. The syntax of reduce function is given below. \n",
    "\n",
    " \n",
    "\n",
    "reduce(function,iterable object)\n",
    "\n",
    "The function object passed to the reduce function decides what expression is passed to the iterable object.\n",
    "The iterable object can be a string, list, tuple, set or dictionary.\n",
    "Also, reduce function produces a single output."
   ]
  },
  {
   "cell_type": "code",
   "execution_count": 309,
   "id": "1cb01065",
   "metadata": {},
   "outputs": [
    {
     "data": {
      "text/plain": [
       "[1, 2, 3, 4, 5, 6]"
      ]
     },
     "execution_count": 309,
     "metadata": {},
     "output_type": "execute_result"
    }
   ],
   "source": [
    "from functools import reduce\n",
    "l=range(1,7)\n",
    "# set(l)\n",
    "list(l)"
   ]
  },
  {
   "cell_type": "code",
   "execution_count": 312,
   "id": "83789d6c",
   "metadata": {},
   "outputs": [
    {
     "data": {
      "text/plain": [
       "8"
      ]
     },
     "execution_count": 312,
     "metadata": {},
     "output_type": "execute_result"
    }
   ],
   "source": [
    "f=lambda x,y : x*y\n",
    "f(2,4)"
   ]
  },
  {
   "cell_type": "code",
   "execution_count": 318,
   "id": "852c11e2",
   "metadata": {},
   "outputs": [
    {
     "data": {
      "text/plain": [
       "720"
      ]
     },
     "execution_count": 318,
     "metadata": {},
     "output_type": "execute_result"
    }
   ],
   "source": [
    "f1=reduce(lambda x,y:x*y,l)\n",
    "f1"
   ]
  },
  {
   "cell_type": "code",
   "execution_count": null,
   "id": "23fa8125",
   "metadata": {},
   "outputs": [],
   "source": [
    "q=reduce(f,l)\n",
    "q"
   ]
  },
  {
   "cell_type": "code",
   "execution_count": 319,
   "id": "639d3b29",
   "metadata": {},
   "outputs": [
    {
     "data": {
      "text/plain": [
       "'PaulTed'"
      ]
     },
     "execution_count": 319,
     "metadata": {},
     "output_type": "execute_result"
    }
   ],
   "source": [
    "list_1 = ['Paul','Ted']\n",
    "reduce(lambda x,y: x + y,list_1)"
   ]
  },
  {
   "cell_type": "code",
   "execution_count": 320,
   "id": "f8d9d2a7",
   "metadata": {},
   "outputs": [
    {
     "name": "stdout",
     "output_type": "stream",
     "text": [
      "3\n"
     ]
    }
   ],
   "source": [
    "input_list = ['San Jose', 'San Francisco', 'Santa Fe', 'Houston']\n",
    "desireList = list(map(lambda x: x if x[0] == 'S' else '', input_list))\n",
    "desireList.remove('')\n",
    "print(len(desireList))"
   ]
  },
  {
   "cell_type": "code",
   "execution_count": 322,
   "id": "a2f7c01c",
   "metadata": {},
   "outputs": [
    {
     "data": {
      "text/plain": [
       "3"
      ]
     },
     "execution_count": 322,
     "metadata": {},
     "output_type": "execute_result"
    }
   ],
   "source": [
    "# Using the function Map, count the number of words that start with ‘S’ in input_list.\n",
    "input_list = ['San Jose', 'San Francisco', 'Santa Fe', 'Houston']\n",
    "sum(map(lambda x: x[0] == 'S', input_list))"
   ]
  },
  {
   "cell_type": "code",
   "execution_count": 325,
   "id": "8a13b32b",
   "metadata": {},
   "outputs": [
    {
     "data": {
      "text/plain": [
       "['Ankur Narang', 'Avik Sarkar', 'Kiran R', 'Nitin Sareen']"
      ]
     },
     "execution_count": 325,
     "metadata": {},
     "output_type": "execute_result"
    }
   ],
   "source": [
    "input_list=[ ['Ankur', 'Avik', 'Kiran', 'Nitin'], ['Narang', 'Sarkar', 'R', 'Sareen']]\n",
    "first_name = input_list[0]\n",
    "last_name = input_list[1]\n",
    "list(map(lambda x,y :x+\" \"+y ,first_name,last_name))"
   ]
  },
  {
   "cell_type": "code",
   "execution_count": 326,
   "id": "584ffd75",
   "metadata": {},
   "outputs": [
    {
     "name": "stdout",
     "output_type": "stream",
     "text": [
      "['soap', 'sharp', 'ship', 'sheep']\n"
     ]
    }
   ],
   "source": [
    "\n",
    "# Description You are given a list of strings such as input_list = ['hdjk', 'salsap', 'sherpa'].\n",
    "#Extract a list of names that start with an ‘s’ and end with a ‘p’ (both 's' and 'p' are lowercase) in input_list.\n",
    "\n",
    "input_list =['soap','sharp','shy','silent','ship','summer','sheep']\n",
    "sp = list(filter(lambda x: x[0]=='s' and x[-1]=='p',input_list))\n",
    "print(sp)\n"
   ]
  },
  {
   "cell_type": "code",
   "execution_count": 327,
   "id": "f2465e21",
   "metadata": {},
   "outputs": [
    {
     "data": {
      "text/plain": [
       "'hdjk salsap sherpa'"
      ]
     },
     "execution_count": 327,
     "metadata": {},
     "output_type": "execute_result"
    }
   ],
   "source": [
    "from functools import reduce\n",
    "input_list =  ['hdjk', 'salsap', 'sherpa']\n",
    "reduce(lambda x,y: x+\" \"+y, input_list)\n"
   ]
  },
  {
   "cell_type": "code",
   "execution_count": 328,
   "id": "6d10f7de",
   "metadata": {},
   "outputs": [
    {
     "data": {
      "text/plain": [
       "78"
      ]
     },
     "execution_count": 328,
     "metadata": {},
     "output_type": "execute_result"
    }
   ],
   "source": [
    "list2 = [16, 78, 32, 67]\n",
    "reduce(max,list2)"
   ]
  },
  {
   "cell_type": "code",
   "execution_count": null,
   "id": "7ffefb2a",
   "metadata": {},
   "outputs": [],
   "source": []
  }
 ],
 "metadata": {
  "kernelspec": {
   "display_name": "Python 3 (ipykernel)",
   "language": "python",
   "name": "python3"
  },
  "language_info": {
   "codemirror_mode": {
    "name": "ipython",
    "version": 3
   },
   "file_extension": ".py",
   "mimetype": "text/x-python",
   "name": "python",
   "nbconvert_exporter": "python",
   "pygments_lexer": "ipython3",
   "version": "3.9.12"
  }
 },
 "nbformat": 4,
 "nbformat_minor": 5
}
