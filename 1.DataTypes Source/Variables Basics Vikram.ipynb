{
 "cells": [
  {
   "cell_type": "code",
   "execution_count": 1,
   "id": "85f1081b",
   "metadata": {},
   "outputs": [],
   "source": [
    "# Variables "
   ]
  },
  {
   "cell_type": "code",
   "execution_count": 2,
   "id": "c6aa4aed",
   "metadata": {},
   "outputs": [
    {
     "name": "stdout",
     "output_type": "stream",
     "text": [
      "mike\n"
     ]
    }
   ],
   "source": [
    "var1 =\"mike\"\n",
    "print (var1)"
   ]
  },
  {
   "cell_type": "code",
   "execution_count": 3,
   "id": "396568e3",
   "metadata": {},
   "outputs": [
    {
     "name": "stdout",
     "output_type": "stream",
     "text": [
      "8\n",
      "<class 'int'>\n"
     ]
    }
   ],
   "source": [
    "var2=8\n",
    "print (var2)\n",
    "print (type(var2))"
   ]
  },
  {
   "cell_type": "code",
   "execution_count": 6,
   "id": "af2e4b3c",
   "metadata": {},
   "outputs": [
    {
     "name": "stdout",
     "output_type": "stream",
     "text": [
      "<class 'float'>\n",
      "3.5\n"
     ]
    }
   ],
   "source": [
    "var3 =3.5\n",
    "print(type(var3))\n",
    "print(var3)"
   ]
  },
  {
   "cell_type": "code",
   "execution_count": 6,
   "id": "06e19af9",
   "metadata": {},
   "outputs": [],
   "source": [
    "# to get the input frpm user"
   ]
  },
  {
   "cell_type": "code",
   "execution_count": 1,
   "id": "ae5836b4",
   "metadata": {},
   "outputs": [
    {
     "name": "stdout",
     "output_type": "stream",
     "text": [
      "what is your fav numberI 6\n",
      "I 6\n"
     ]
    }
   ],
   "source": [
    "number=input(\"what is your fav number\")\n",
    "print (number)"
   ]
  },
  {
   "cell_type": "code",
   "execution_count": 10,
   "id": "64e3507c",
   "metadata": {},
   "outputs": [
    {
     "name": "stdout",
     "output_type": "stream",
     "text": [
      "what is your  name:  Vikram\n",
      "Welcome  Vikram\n"
     ]
    }
   ],
   "source": [
    "name=input(\"what is your  name:  \")\n",
    "print (\"Welcome \", name)"
   ]
  },
  {
   "cell_type": "code",
   "execution_count": 11,
   "id": "91b23fbf",
   "metadata": {},
   "outputs": [
    {
     "name": "stdout",
     "output_type": "stream",
     "text": [
      "Enter your Age :  35\n",
      "you are  353535353535353535353535  months old\n"
     ]
    }
   ],
   "source": [
    "age=input(\"Enter your Age :  \")\n",
    "print(\"you are \",age*12,\" months old\")"
   ]
  },
  {
   "cell_type": "code",
   "execution_count": 12,
   "id": "2b9ea99c",
   "metadata": {},
   "outputs": [
    {
     "name": "stdout",
     "output_type": "stream",
     "text": [
      "Enter your Age :  12\n",
      "you are  144  months old\n"
     ]
    }
   ],
   "source": [
    "age=input(\"Enter your Age :  \")\n",
    "# converting the string into INT as input function always reads data in a string.\n",
    "# doing type casting - changing from one data type to another datatype\n",
    "age=int(age)\n",
    "print(\"you are \",age*12,\" months old\")"
   ]
  },
  {
   "cell_type": "markdown",
   "id": "42c76289",
   "metadata": {},
   "source": [
    "# <font color='blue'>\"How to find the Data Types for Variables\"</font>"
   ]
  },
  {
   "cell_type": "code",
   "execution_count": 31,
   "id": "e6b86149",
   "metadata": {},
   "outputs": [],
   "source": [
    "integer_num=1\n",
    "floating_num=1.2\n",
    "string=\"Mike\"\n",
    "boolean=True\n"
   ]
  },
  {
   "cell_type": "code",
   "execution_count": 32,
   "id": "e2e4e0e6",
   "metadata": {},
   "outputs": [
    {
     "data": {
      "text/plain": [
       "int"
      ]
     },
     "execution_count": 32,
     "metadata": {},
     "output_type": "execute_result"
    }
   ],
   "source": [
    "type(integer_num)"
   ]
  },
  {
   "cell_type": "code",
   "execution_count": 33,
   "id": "7fd2edbd",
   "metadata": {},
   "outputs": [
    {
     "data": {
      "text/plain": [
       "float"
      ]
     },
     "execution_count": 33,
     "metadata": {},
     "output_type": "execute_result"
    }
   ],
   "source": [
    "type(floating_num)"
   ]
  },
  {
   "cell_type": "code",
   "execution_count": 34,
   "id": "6fc8e63b",
   "metadata": {},
   "outputs": [
    {
     "data": {
      "text/plain": [
       "str"
      ]
     },
     "execution_count": 34,
     "metadata": {},
     "output_type": "execute_result"
    }
   ],
   "source": [
    "type(string)"
   ]
  },
  {
   "cell_type": "code",
   "execution_count": 35,
   "id": "cda45aab",
   "metadata": {},
   "outputs": [
    {
     "data": {
      "text/plain": [
       "bool"
      ]
     },
     "execution_count": 35,
     "metadata": {},
     "output_type": "execute_result"
    }
   ],
   "source": [
    "type(boolean)"
   ]
  },
  {
   "cell_type": "markdown",
   "id": "5d10e531",
   "metadata": {},
   "source": [
    "#### type casting in python"
   ]
  },
  {
   "cell_type": "code",
   "execution_count": 42,
   "id": "b4ba1b5a",
   "metadata": {},
   "outputs": [
    {
     "name": "stdout",
     "output_type": "stream",
     "text": [
      "True\n"
     ]
    }
   ],
   "source": [
    "a=1 # integer variable , change the variable value and see \n",
    "print(bool(a))"
   ]
  },
  {
   "cell_type": "code",
   "execution_count": 43,
   "id": "4bcbec69",
   "metadata": {},
   "outputs": [
    {
     "name": "stdout",
     "output_type": "stream",
     "text": [
      "1.0\n"
     ]
    }
   ],
   "source": [
    "print(float(a))"
   ]
  },
  {
   "cell_type": "code",
   "execution_count": 44,
   "id": "5833a6d8",
   "metadata": {},
   "outputs": [
    {
     "name": "stdout",
     "output_type": "stream",
     "text": [
      "1\n"
     ]
    }
   ],
   "source": [
    "print(str(a))"
   ]
  },
  {
   "cell_type": "code",
   "execution_count": 6,
   "id": "9c8a34cd",
   "metadata": {},
   "outputs": [
    {
     "name": "stdout",
     "output_type": "stream",
     "text": [
      "<class 'float'>\n"
     ]
    }
   ],
   "source": [
    "x=3.5\n",
    "y=float(int(x)))\n",
    "print(type(y))"
   ]
  },
  {
   "cell_type": "code",
   "execution_count": 7,
   "id": "8cfd7aa3",
   "metadata": {},
   "outputs": [
    {
     "name": "stdout",
     "output_type": "stream",
     "text": [
      "3.0\n"
     ]
    }
   ],
   "source": [
    "print(float(int(x)))"
   ]
  },
  {
   "cell_type": "markdown",
   "id": "b649407f",
   "metadata": {},
   "source": [
    "###  <font color='blue'>\"Arthematic Operations\"</font>"
   ]
  },
  {
   "cell_type": "code",
   "execution_count": 8,
   "id": "4a531363",
   "metadata": {},
   "outputs": [
    {
     "name": "stdout",
     "output_type": "stream",
     "text": [
      "Addition =  18\n"
     ]
    }
   ],
   "source": [
    "a=16\n",
    "b=2\n",
    "print(\"Addition = \",a+b)"
   ]
  },
  {
   "cell_type": "code",
   "execution_count": 13,
   "id": "facc99ed",
   "metadata": {},
   "outputs": [
    {
     "name": "stdout",
     "output_type": "stream",
     "text": [
      "Subtraction =  9\n"
     ]
    }
   ],
   "source": [
    "print(\"Subtraction = \",a-b)"
   ]
  },
  {
   "cell_type": "code",
   "execution_count": 14,
   "id": "a9b854da",
   "metadata": {},
   "outputs": [
    {
     "name": "stdout",
     "output_type": "stream",
     "text": [
      "Multiplication =  112\n"
     ]
    }
   ],
   "source": [
    "print(\"Multiplication = \",a*b)"
   ]
  },
  {
   "cell_type": "code",
   "execution_count": 9,
   "id": "3946e1b8",
   "metadata": {},
   "outputs": [
    {
     "name": "stdout",
     "output_type": "stream",
     "text": [
      "Division =  8.0\n",
      "256\n"
     ]
    }
   ],
   "source": [
    "print(\"Division = \",a/b)\n",
    "print(a**b)"
   ]
  },
  {
   "cell_type": "code",
   "execution_count": 10,
   "id": "8bc22233",
   "metadata": {},
   "outputs": [
    {
     "name": "stdout",
     "output_type": "stream",
     "text": [
      "Floor division = 8\n"
     ]
    }
   ],
   "source": [
    "print(\"Floor division =\" ,a//b)"
   ]
  },
  {
   "cell_type": "code",
   "execution_count": 11,
   "id": "2cf2b067",
   "metadata": {},
   "outputs": [
    {
     "name": "stdout",
     "output_type": "stream",
     "text": [
      "Modulus or remainder  0\n"
     ]
    }
   ],
   "source": [
    "print(\"Modulus or remainder \",a%b)"
   ]
  },
  {
   "cell_type": "code",
   "execution_count": 55,
   "id": "df84712e",
   "metadata": {},
   "outputs": [
    {
     "name": "stdout",
     "output_type": "stream",
     "text": [
      "11.857142857142858\n"
     ]
    }
   ],
   "source": [
    "print((4 * 5) - 9 + 6 / 7) ## first in peranthesis anf then / anf then - and add "
   ]
  },
  {
   "cell_type": "code",
   "execution_count": 56,
   "id": "18a3965f",
   "metadata": {},
   "outputs": [
    {
     "name": "stdout",
     "output_type": "stream",
     "text": [
      "68\n"
     ]
    }
   ],
   "source": [
    "print(4 + (8 ** 2) - 3 ** 2 % 1 )"
   ]
  },
  {
   "cell_type": "code",
   "execution_count": 57,
   "id": "a3d3ca76",
   "metadata": {},
   "outputs": [
    {
     "name": "stdout",
     "output_type": "stream",
     "text": [
      "0\n"
     ]
    }
   ],
   "source": [
    "print(9%1)"
   ]
  },
  {
   "cell_type": "code",
   "execution_count": 59,
   "id": "fcf75dfb",
   "metadata": {},
   "outputs": [
    {
     "name": "stdout",
     "output_type": "stream",
     "text": [
      "3.5\n"
     ]
    }
   ],
   "source": [
    "x = 3\n",
    "y = 2.5\n",
    "z = 5\n",
    "print(x + y / z)"
   ]
  },
  {
   "cell_type": "code",
   "execution_count": 64,
   "id": "49a01d0d",
   "metadata": {},
   "outputs": [
    {
     "name": "stdout",
     "output_type": "stream",
     "text": [
      "6\n"
     ]
    }
   ],
   "source": [
    "print(60//9)\n"
   ]
  },
  {
   "cell_type": "code",
   "execution_count": 63,
   "id": "d5bde033",
   "metadata": {},
   "outputs": [
    {
     "name": "stdout",
     "output_type": "stream",
     "text": [
      "-2\n"
     ]
    }
   ],
   "source": [
    "print(4 % (1 + 9)**2 - 60 // (7 + 2))\n",
    " ## Operator precedence rule:    ()>∗∗>//>%>+>−\n",
    "        # 4%10**2-60//9\n",
    "        #4%100-60//9\n",
    "        #4%100-6\n",
    "        #4-6\n",
    "        #-2"
   ]
  },
  {
   "cell_type": "markdown",
   "id": "f655ef04",
   "metadata": {},
   "source": [
    "## <font color='blue'> String Operations</font>\n"
   ]
  },
  {
   "cell_type": "code",
   "execution_count": 69,
   "id": "b1491fad",
   "metadata": {},
   "outputs": [
    {
     "name": "stdout",
     "output_type": "stream",
     "text": [
      "d Mark John\n"
     ]
    }
   ],
   "source": [
    "c='d'\n",
    "d='Mark'\n",
    "e=\"John\"\n",
    "print(c,d,e)"
   ]
  },
  {
   "cell_type": "code",
   "execution_count": 70,
   "id": "301a1060",
   "metadata": {},
   "outputs": [
    {
     "ename": "SyntaxError",
     "evalue": "invalid syntax (718953225.py, line 1)",
     "output_type": "error",
     "traceback": [
      "\u001b[0;36m  Input \u001b[0;32mIn [70]\u001b[0;36m\u001b[0m\n\u001b[0;31m    print('I din't know)\u001b[0m\n\u001b[0m                 ^\u001b[0m\n\u001b[0;31mSyntaxError\u001b[0m\u001b[0;31m:\u001b[0m invalid syntax\n"
     ]
    }
   ],
   "source": [
    "print('I din't know)"
   ]
  },
  {
   "cell_type": "code",
   "execution_count": 74,
   "id": "756e9866",
   "metadata": {},
   "outputs": [
    {
     "name": "stdout",
     "output_type": "stream",
     "text": [
      "I din't know\n",
      "I din't know\n"
     ]
    }
   ],
   "source": [
    "print('I din\\'t know')\n",
    "print(\"I din't know\")"
   ]
  },
  {
   "cell_type": "code",
   "execution_count": 19,
   "id": "027a5a14",
   "metadata": {},
   "outputs": [
    {
     "name": "stdout",
     "output_type": "stream",
     "text": [
      "Hi Vikram \n",
      "How are you \n",
      " \n",
      " nice to talking with you\n"
     ]
    }
   ],
   "source": [
    "s=\"nice to talking with you\"\n",
    "print(\"Hi Vikram \\nHow are you \\n\",\"\\n\",s)"
   ]
  },
  {
   "cell_type": "code",
   "execution_count": 91,
   "id": "8dcbf0fd",
   "metadata": {},
   "outputs": [
    {
     "name": "stdout",
     "output_type": "stream",
     "text": [
      "what flavour would you love ?vanilla\n",
      "what type of dessert do you like ?ice cream\n"
     ]
    }
   ],
   "source": [
    "flavour=input(\"what flavour would you love ?\")\n",
    "dessert_type=input(\"what type of dessert do you like ?\")"
   ]
  },
  {
   "cell_type": "code",
   "execution_count": 94,
   "id": "81e15628",
   "metadata": {},
   "outputs": [
    {
     "name": "stdout",
     "output_type": "stream",
     "text": [
      "you entered vanilla_ice cream\n"
     ]
    }
   ],
   "source": [
    "print(\"you entered\",flavour+'_'+dessert_type)"
   ]
  },
  {
   "cell_type": "code",
   "execution_count": 104,
   "id": "89b8b598",
   "metadata": {},
   "outputs": [
    {
     "data": {
      "text/plain": [
       "34"
      ]
     },
     "execution_count": 104,
     "metadata": {},
     "output_type": "execute_result"
    }
   ],
   "source": [
    "# Len() function\n",
    "string=\"I am interested in learning PYTHON\"\n",
    "len(string)"
   ]
  },
  {
   "cell_type": "code",
   "execution_count": 96,
   "id": "d2edcb2f",
   "metadata": {},
   "outputs": [
    {
     "data": {
      "text/plain": [
       "'I'"
      ]
     },
     "execution_count": 96,
     "metadata": {},
     "output_type": "execute_result"
    }
   ],
   "source": [
    "string[0] # index starts fronm 0"
   ]
  },
  {
   "cell_type": "code",
   "execution_count": 97,
   "id": "8f28ebf8",
   "metadata": {},
   "outputs": [
    {
     "data": {
      "text/plain": [
       "'i'"
      ]
     },
     "execution_count": 97,
     "metadata": {},
     "output_type": "execute_result"
    }
   ],
   "source": [
    "string[5]"
   ]
  },
  {
   "cell_type": "code",
   "execution_count": 98,
   "id": "41bab820",
   "metadata": {},
   "outputs": [
    {
     "data": {
      "text/plain": [
       "'N'"
      ]
     },
     "execution_count": 98,
     "metadata": {},
     "output_type": "execute_result"
    }
   ],
   "source": [
    "string[-1] # gives the last character"
   ]
  },
  {
   "cell_type": "code",
   "execution_count": 111,
   "id": "1fb863ee",
   "metadata": {},
   "outputs": [
    {
     "ename": "TypeError",
     "evalue": "'str' object does not support item assignment",
     "output_type": "error",
     "traceback": [
      "\u001b[0;31m---------------------------------------------------------------------------\u001b[0m",
      "\u001b[0;31mTypeError\u001b[0m                                 Traceback (most recent call last)",
      "Input \u001b[0;32mIn [111]\u001b[0m, in \u001b[0;36m<cell line: 1>\u001b[0;34m()\u001b[0m\n\u001b[0;32m----> 1\u001b[0m string[\u001b[38;5;241m1\u001b[39m]\u001b[38;5;241m=\u001b[39m\u001b[38;5;124m\"\u001b[39m\u001b[38;5;124mM\u001b[39m\u001b[38;5;124m\"\u001b[39m\n",
      "\u001b[0;31mTypeError\u001b[0m: 'str' object does not support item assignment"
     ]
    }
   ],
   "source": [
    "string[1]=\"M\""
   ]
  },
  {
   "cell_type": "markdown",
   "id": "138a481e",
   "metadata": {},
   "source": [
    "#### Slicing In Strings\n",
    "- string[start:end:step]"
   ]
  },
  {
   "cell_type": "code",
   "execution_count": 112,
   "id": "541dba69",
   "metadata": {},
   "outputs": [
    {
     "name": "stdout",
     "output_type": "stream",
     "text": [
      "I have n\n"
     ]
    }
   ],
   "source": [
    "# slicing by specifying start and end index\n",
    "statement = \"I have not failed. I’ve just found 10,000 ways that won’t work. – Thomas A. Edison\"\n",
    "sliced_statement = statement[0:8]\n",
    "print(sliced_statement)"
   ]
  },
  {
   "cell_type": "code",
   "execution_count": 114,
   "id": "6deb5fe0",
   "metadata": {},
   "outputs": [
    {
     "name": "stdout",
     "output_type": "stream",
     "text": [
      "5 girls \n"
     ]
    }
   ],
   "source": [
    "batch=\"5 girls 3 boys in a class\"\n",
    "girls=batch[:8]\n",
    "print(girls)"
   ]
  },
  {
   "cell_type": "code",
   "execution_count": 115,
   "id": "0748e3cb",
   "metadata": {},
   "outputs": [
    {
     "name": "stdout",
     "output_type": "stream",
     "text": [
      "3 boys in a class\n"
     ]
    }
   ],
   "source": [
    "batch=\"5 girls 3 boys in a class\"\n",
    "girls=batch[8:]\n",
    "print(girls)"
   ]
  },
  {
   "cell_type": "code",
   "execution_count": 119,
   "id": "7892960d",
   "metadata": {},
   "outputs": [
    {
     "name": "stdout",
     "output_type": "stream",
     "text": [
      "True\n",
      "False\n"
     ]
    }
   ],
   "source": [
    "#membership\n",
    "string=\"John! did you attend the conference on advanced machine learning\"\n",
    "print('John'in string)\n",
    "print('Viki'in string)"
   ]
  },
  {
   "cell_type": "markdown",
   "id": "3b37736e",
   "metadata": {},
   "source": [
    "#### String methods\n",
    "- upper()\n",
    "- lower()\n",
    "- strip()\n",
    "- count(substring,begin,end)\n",
    "- https://docs.python.org/3.7/library/stdtypes.html#string-methods"
   ]
  },
  {
   "cell_type": "code",
   "execution_count": 5,
   "id": "82cb2d98",
   "metadata": {},
   "outputs": [
    {
     "name": "stdout",
     "output_type": "stream",
     "text": [
      "e\n"
     ]
    }
   ],
   "source": [
    "x='len'\n",
    "print(x[len(x*2)-5])"
   ]
  },
  {
   "cell_type": "code",
   "execution_count": 9,
   "id": "c5284f4a",
   "metadata": {},
   "outputs": [
    {
     "name": "stdout",
     "output_type": "stream",
     "text": [
      "I AM UPPER CASE\n"
     ]
    }
   ],
   "source": [
    "# Upper\n",
    "small='i am upper case'\n",
    "print(small.upper())"
   ]
  },
  {
   "cell_type": "code",
   "execution_count": 11,
   "id": "016b5c6b",
   "metadata": {},
   "outputs": [
    {
     "name": "stdout",
     "output_type": "stream",
     "text": [
      "i am lower case\n"
     ]
    }
   ],
   "source": [
    "# lower\n",
    "large='I AM LOWER CASE'\n",
    "print(large.lower())"
   ]
  },
  {
   "cell_type": "code",
   "execution_count": 19,
   "id": "ff09de37",
   "metadata": {},
   "outputs": [
    {
     "name": "stdout",
     "output_type": "stream",
     "text": [
      "   there are spaces in string.     \n",
      "   there are spaces in string.\n",
      "there are spaces in string.\n",
      "there are spaces in string.     \n"
     ]
    }
   ],
   "source": [
    "#strip -- removes the spaces from string\n",
    "some_sentence=\"   there are spaces in string.     \"\n",
    "print(some_sentence)\n",
    "print(some_sentence.rstrip())\n",
    "print(some_sentence.strip())\n",
    "print(some_sentence.lstrip())"
   ]
  },
  {
   "cell_type": "code",
   "execution_count": 34,
   "id": "db9d2615",
   "metadata": {},
   "outputs": [
    {
     "name": "stdout",
     "output_type": "stream",
     "text": [
      "mumbai23\n"
     ]
    }
   ],
   "source": [
    "someword='***mumbai23###'\n",
    "print(someword.lstrip('*').rstrip('#'))"
   ]
  },
  {
   "cell_type": "code",
   "execution_count": 35,
   "id": "0203ed5f",
   "metadata": {},
   "outputs": [
    {
     "name": "stdout",
     "output_type": "stream",
     "text": [
      "['Hello', 'World!']\n"
     ]
    }
   ],
   "source": [
    "# Split function \n",
    "a = \"Hello World!\"\n",
    "print(a.split(\" \")) # returns ['Hello', 'World!']"
   ]
  },
  {
   "cell_type": "code",
   "execution_count": 48,
   "id": "02315c11",
   "metadata": {},
   "outputs": [
    {
     "name": "stdout",
     "output_type": "stream",
     "text": [
      "2\n",
      "4\n",
      "1\n"
     ]
    }
   ],
   "source": [
    "# count menthod\n",
    "string=\"this is a sample sentence\"\n",
    "print(string.count('i'))\n",
    "print(string.count('s'))\n",
    "print(string.count('i',5))\n"
   ]
  },
  {
   "cell_type": "code",
   "execution_count": 52,
   "id": "172560ad",
   "metadata": {},
   "outputs": [
    {
     "name": "stdout",
     "output_type": "stream",
     "text": [
      "Data Analysis using pandas\n"
     ]
    }
   ],
   "source": [
    "A=\"Data\"\n",
    "B=\"Analysis\"\n",
    "C=\"pandas\"\n",
    "print(A,B,'using',C)"
   ]
  },
  {
   "cell_type": "code",
   "execution_count": 54,
   "id": "946b3198",
   "metadata": {},
   "outputs": [
    {
     "name": "stdout",
     "output_type": "stream",
     "text": [
      "Data Analysis using pandas\n"
     ]
    }
   ],
   "source": [
    "# it is used to perform String formatting \n",
    "print(\"{0} {1} using {2}\".format(A,B,C))"
   ]
  },
  {
   "cell_type": "code",
   "execution_count": 55,
   "id": "00d48f1b",
   "metadata": {},
   "outputs": [
    {
     "name": "stdout",
     "output_type": "stream",
     "text": [
      "Help on class str in module builtins:\n",
      "\n",
      "class str(object)\n",
      " |  str(object='') -> str\n",
      " |  str(bytes_or_buffer[, encoding[, errors]]) -> str\n",
      " |  \n",
      " |  Create a new string object from the given object. If encoding or\n",
      " |  errors is specified, then the object must expose a data buffer\n",
      " |  that will be decoded using the given encoding and error handler.\n",
      " |  Otherwise, returns the result of object.__str__() (if defined)\n",
      " |  or repr(object).\n",
      " |  encoding defaults to sys.getdefaultencoding().\n",
      " |  errors defaults to 'strict'.\n",
      " |  \n",
      " |  Methods defined here:\n",
      " |  \n",
      " |  __add__(self, value, /)\n",
      " |      Return self+value.\n",
      " |  \n",
      " |  __contains__(self, key, /)\n",
      " |      Return key in self.\n",
      " |  \n",
      " |  __eq__(self, value, /)\n",
      " |      Return self==value.\n",
      " |  \n",
      " |  __format__(self, format_spec, /)\n",
      " |      Return a formatted version of the string as described by format_spec.\n",
      " |  \n",
      " |  __ge__(self, value, /)\n",
      " |      Return self>=value.\n",
      " |  \n",
      " |  __getattribute__(self, name, /)\n",
      " |      Return getattr(self, name).\n",
      " |  \n",
      " |  __getitem__(self, key, /)\n",
      " |      Return self[key].\n",
      " |  \n",
      " |  __getnewargs__(...)\n",
      " |  \n",
      " |  __gt__(self, value, /)\n",
      " |      Return self>value.\n",
      " |  \n",
      " |  __hash__(self, /)\n",
      " |      Return hash(self).\n",
      " |  \n",
      " |  __iter__(self, /)\n",
      " |      Implement iter(self).\n",
      " |  \n",
      " |  __le__(self, value, /)\n",
      " |      Return self<=value.\n",
      " |  \n",
      " |  __len__(self, /)\n",
      " |      Return len(self).\n",
      " |  \n",
      " |  __lt__(self, value, /)\n",
      " |      Return self<value.\n",
      " |  \n",
      " |  __mod__(self, value, /)\n",
      " |      Return self%value.\n",
      " |  \n",
      " |  __mul__(self, value, /)\n",
      " |      Return self*value.\n",
      " |  \n",
      " |  __ne__(self, value, /)\n",
      " |      Return self!=value.\n",
      " |  \n",
      " |  __repr__(self, /)\n",
      " |      Return repr(self).\n",
      " |  \n",
      " |  __rmod__(self, value, /)\n",
      " |      Return value%self.\n",
      " |  \n",
      " |  __rmul__(self, value, /)\n",
      " |      Return value*self.\n",
      " |  \n",
      " |  __sizeof__(self, /)\n",
      " |      Return the size of the string in memory, in bytes.\n",
      " |  \n",
      " |  __str__(self, /)\n",
      " |      Return str(self).\n",
      " |  \n",
      " |  capitalize(self, /)\n",
      " |      Return a capitalized version of the string.\n",
      " |      \n",
      " |      More specifically, make the first character have upper case and the rest lower\n",
      " |      case.\n",
      " |  \n",
      " |  casefold(self, /)\n",
      " |      Return a version of the string suitable for caseless comparisons.\n",
      " |  \n",
      " |  center(self, width, fillchar=' ', /)\n",
      " |      Return a centered string of length width.\n",
      " |      \n",
      " |      Padding is done using the specified fill character (default is a space).\n",
      " |  \n",
      " |  count(...)\n",
      " |      S.count(sub[, start[, end]]) -> int\n",
      " |      \n",
      " |      Return the number of non-overlapping occurrences of substring sub in\n",
      " |      string S[start:end].  Optional arguments start and end are\n",
      " |      interpreted as in slice notation.\n",
      " |  \n",
      " |  encode(self, /, encoding='utf-8', errors='strict')\n",
      " |      Encode the string using the codec registered for encoding.\n",
      " |      \n",
      " |      encoding\n",
      " |        The encoding in which to encode the string.\n",
      " |      errors\n",
      " |        The error handling scheme to use for encoding errors.\n",
      " |        The default is 'strict' meaning that encoding errors raise a\n",
      " |        UnicodeEncodeError.  Other possible values are 'ignore', 'replace' and\n",
      " |        'xmlcharrefreplace' as well as any other name registered with\n",
      " |        codecs.register_error that can handle UnicodeEncodeErrors.\n",
      " |  \n",
      " |  endswith(...)\n",
      " |      S.endswith(suffix[, start[, end]]) -> bool\n",
      " |      \n",
      " |      Return True if S ends with the specified suffix, False otherwise.\n",
      " |      With optional start, test S beginning at that position.\n",
      " |      With optional end, stop comparing S at that position.\n",
      " |      suffix can also be a tuple of strings to try.\n",
      " |  \n",
      " |  expandtabs(self, /, tabsize=8)\n",
      " |      Return a copy where all tab characters are expanded using spaces.\n",
      " |      \n",
      " |      If tabsize is not given, a tab size of 8 characters is assumed.\n",
      " |  \n",
      " |  find(...)\n",
      " |      S.find(sub[, start[, end]]) -> int\n",
      " |      \n",
      " |      Return the lowest index in S where substring sub is found,\n",
      " |      such that sub is contained within S[start:end].  Optional\n",
      " |      arguments start and end are interpreted as in slice notation.\n",
      " |      \n",
      " |      Return -1 on failure.\n",
      " |  \n",
      " |  format(...)\n",
      " |      S.format(*args, **kwargs) -> str\n",
      " |      \n",
      " |      Return a formatted version of S, using substitutions from args and kwargs.\n",
      " |      The substitutions are identified by braces ('{' and '}').\n",
      " |  \n",
      " |  format_map(...)\n",
      " |      S.format_map(mapping) -> str\n",
      " |      \n",
      " |      Return a formatted version of S, using substitutions from mapping.\n",
      " |      The substitutions are identified by braces ('{' and '}').\n",
      " |  \n",
      " |  index(...)\n",
      " |      S.index(sub[, start[, end]]) -> int\n",
      " |      \n",
      " |      Return the lowest index in S where substring sub is found,\n",
      " |      such that sub is contained within S[start:end].  Optional\n",
      " |      arguments start and end are interpreted as in slice notation.\n",
      " |      \n",
      " |      Raises ValueError when the substring is not found.\n",
      " |  \n",
      " |  isalnum(self, /)\n",
      " |      Return True if the string is an alpha-numeric string, False otherwise.\n",
      " |      \n",
      " |      A string is alpha-numeric if all characters in the string are alpha-numeric and\n",
      " |      there is at least one character in the string.\n",
      " |  \n",
      " |  isalpha(self, /)\n",
      " |      Return True if the string is an alphabetic string, False otherwise.\n",
      " |      \n",
      " |      A string is alphabetic if all characters in the string are alphabetic and there\n",
      " |      is at least one character in the string.\n",
      " |  \n",
      " |  isascii(self, /)\n",
      " |      Return True if all characters in the string are ASCII, False otherwise.\n",
      " |      \n",
      " |      ASCII characters have code points in the range U+0000-U+007F.\n",
      " |      Empty string is ASCII too.\n",
      " |  \n",
      " |  isdecimal(self, /)\n",
      " |      Return True if the string is a decimal string, False otherwise.\n",
      " |      \n",
      " |      A string is a decimal string if all characters in the string are decimal and\n",
      " |      there is at least one character in the string.\n",
      " |  \n",
      " |  isdigit(self, /)\n",
      " |      Return True if the string is a digit string, False otherwise.\n",
      " |      \n",
      " |      A string is a digit string if all characters in the string are digits and there\n",
      " |      is at least one character in the string.\n",
      " |  \n",
      " |  isidentifier(self, /)\n",
      " |      Return True if the string is a valid Python identifier, False otherwise.\n",
      " |      \n",
      " |      Call keyword.iskeyword(s) to test whether string s is a reserved identifier,\n",
      " |      such as \"def\" or \"class\".\n",
      " |  \n",
      " |  islower(self, /)\n",
      " |      Return True if the string is a lowercase string, False otherwise.\n",
      " |      \n",
      " |      A string is lowercase if all cased characters in the string are lowercase and\n",
      " |      there is at least one cased character in the string.\n",
      " |  \n",
      " |  isnumeric(self, /)\n",
      " |      Return True if the string is a numeric string, False otherwise.\n",
      " |      \n",
      " |      A string is numeric if all characters in the string are numeric and there is at\n",
      " |      least one character in the string.\n",
      " |  \n",
      " |  isprintable(self, /)\n",
      " |      Return True if the string is printable, False otherwise.\n",
      " |      \n",
      " |      A string is printable if all of its characters are considered printable in\n",
      " |      repr() or if it is empty.\n",
      " |  \n",
      " |  isspace(self, /)\n",
      " |      Return True if the string is a whitespace string, False otherwise.\n",
      " |      \n",
      " |      A string is whitespace if all characters in the string are whitespace and there\n",
      " |      is at least one character in the string.\n",
      " |  \n",
      " |  istitle(self, /)\n",
      " |      Return True if the string is a title-cased string, False otherwise.\n",
      " |      \n",
      " |      In a title-cased string, upper- and title-case characters may only\n",
      " |      follow uncased characters and lowercase characters only cased ones.\n",
      " |  \n",
      " |  isupper(self, /)\n",
      " |      Return True if the string is an uppercase string, False otherwise.\n",
      " |      \n",
      " |      A string is uppercase if all cased characters in the string are uppercase and\n",
      " |      there is at least one cased character in the string.\n",
      " |  \n",
      " |  join(self, iterable, /)\n",
      " |      Concatenate any number of strings.\n",
      " |      \n",
      " |      The string whose method is called is inserted in between each given string.\n",
      " |      The result is returned as a new string.\n",
      " |      \n",
      " |      Example: '.'.join(['ab', 'pq', 'rs']) -> 'ab.pq.rs'\n",
      " |  \n",
      " |  ljust(self, width, fillchar=' ', /)\n",
      " |      Return a left-justified string of length width.\n",
      " |      \n",
      " |      Padding is done using the specified fill character (default is a space).\n",
      " |  \n",
      " |  lower(self, /)\n",
      " |      Return a copy of the string converted to lowercase.\n",
      " |  \n",
      " |  lstrip(self, chars=None, /)\n",
      " |      Return a copy of the string with leading whitespace removed.\n",
      " |      \n",
      " |      If chars is given and not None, remove characters in chars instead.\n",
      " |  \n",
      " |  partition(self, sep, /)\n",
      " |      Partition the string into three parts using the given separator.\n",
      " |      \n",
      " |      This will search for the separator in the string.  If the separator is found,\n",
      " |      returns a 3-tuple containing the part before the separator, the separator\n",
      " |      itself, and the part after it.\n",
      " |      \n",
      " |      If the separator is not found, returns a 3-tuple containing the original string\n",
      " |      and two empty strings.\n",
      " |  \n",
      " |  removeprefix(self, prefix, /)\n",
      " |      Return a str with the given prefix string removed if present.\n",
      " |      \n",
      " |      If the string starts with the prefix string, return string[len(prefix):].\n",
      " |      Otherwise, return a copy of the original string.\n",
      " |  \n",
      " |  removesuffix(self, suffix, /)\n",
      " |      Return a str with the given suffix string removed if present.\n",
      " |      \n",
      " |      If the string ends with the suffix string and that suffix is not empty,\n",
      " |      return string[:-len(suffix)]. Otherwise, return a copy of the original\n",
      " |      string.\n",
      " |  \n",
      " |  replace(self, old, new, count=-1, /)\n",
      " |      Return a copy with all occurrences of substring old replaced by new.\n",
      " |      \n",
      " |        count\n",
      " |          Maximum number of occurrences to replace.\n",
      " |          -1 (the default value) means replace all occurrences.\n",
      " |      \n",
      " |      If the optional argument count is given, only the first count occurrences are\n",
      " |      replaced.\n",
      " |  \n",
      " |  rfind(...)\n",
      " |      S.rfind(sub[, start[, end]]) -> int\n",
      " |      \n",
      " |      Return the highest index in S where substring sub is found,\n",
      " |      such that sub is contained within S[start:end].  Optional\n",
      " |      arguments start and end are interpreted as in slice notation.\n",
      " |      \n",
      " |      Return -1 on failure.\n",
      " |  \n",
      " |  rindex(...)\n",
      " |      S.rindex(sub[, start[, end]]) -> int\n",
      " |      \n",
      " |      Return the highest index in S where substring sub is found,\n",
      " |      such that sub is contained within S[start:end].  Optional\n",
      " |      arguments start and end are interpreted as in slice notation.\n",
      " |      \n",
      " |      Raises ValueError when the substring is not found.\n",
      " |  \n",
      " |  rjust(self, width, fillchar=' ', /)\n",
      " |      Return a right-justified string of length width.\n",
      " |      \n",
      " |      Padding is done using the specified fill character (default is a space).\n",
      " |  \n",
      " |  rpartition(self, sep, /)\n",
      " |      Partition the string into three parts using the given separator.\n",
      " |      \n",
      " |      This will search for the separator in the string, starting at the end. If\n",
      " |      the separator is found, returns a 3-tuple containing the part before the\n",
      " |      separator, the separator itself, and the part after it.\n",
      " |      \n",
      " |      If the separator is not found, returns a 3-tuple containing two empty strings\n",
      " |      and the original string.\n",
      " |  \n",
      " |  rsplit(self, /, sep=None, maxsplit=-1)\n",
      " |      Return a list of the words in the string, using sep as the delimiter string.\n",
      " |      \n",
      " |        sep\n",
      " |          The delimiter according which to split the string.\n",
      " |          None (the default value) means split according to any whitespace,\n",
      " |          and discard empty strings from the result.\n",
      " |        maxsplit\n",
      " |          Maximum number of splits to do.\n",
      " |          -1 (the default value) means no limit.\n",
      " |      \n",
      " |      Splits are done starting at the end of the string and working to the front.\n",
      " |  \n",
      " |  rstrip(self, chars=None, /)\n",
      " |      Return a copy of the string with trailing whitespace removed.\n",
      " |      \n",
      " |      If chars is given and not None, remove characters in chars instead.\n",
      " |  \n",
      " |  split(self, /, sep=None, maxsplit=-1)\n",
      " |      Return a list of the words in the string, using sep as the delimiter string.\n",
      " |      \n",
      " |      sep\n",
      " |        The delimiter according which to split the string.\n",
      " |        None (the default value) means split according to any whitespace,\n",
      " |        and discard empty strings from the result.\n",
      " |      maxsplit\n",
      " |        Maximum number of splits to do.\n",
      " |        -1 (the default value) means no limit.\n",
      " |  \n",
      " |  splitlines(self, /, keepends=False)\n",
      " |      Return a list of the lines in the string, breaking at line boundaries.\n",
      " |      \n",
      " |      Line breaks are not included in the resulting list unless keepends is given and\n",
      " |      true.\n",
      " |  \n",
      " |  startswith(...)\n",
      " |      S.startswith(prefix[, start[, end]]) -> bool\n",
      " |      \n",
      " |      Return True if S starts with the specified prefix, False otherwise.\n",
      " |      With optional start, test S beginning at that position.\n",
      " |      With optional end, stop comparing S at that position.\n",
      " |      prefix can also be a tuple of strings to try.\n",
      " |  \n",
      " |  strip(self, chars=None, /)\n",
      " |      Return a copy of the string with leading and trailing whitespace removed.\n",
      " |      \n",
      " |      If chars is given and not None, remove characters in chars instead.\n",
      " |  \n",
      " |  swapcase(self, /)\n",
      " |      Convert uppercase characters to lowercase and lowercase characters to uppercase.\n",
      " |  \n",
      " |  title(self, /)\n",
      " |      Return a version of the string where each word is titlecased.\n",
      " |      \n",
      " |      More specifically, words start with uppercased characters and all remaining\n",
      " |      cased characters have lower case.\n",
      " |  \n",
      " |  translate(self, table, /)\n",
      " |      Replace each character in the string using the given translation table.\n",
      " |      \n",
      " |        table\n",
      " |          Translation table, which must be a mapping of Unicode ordinals to\n",
      " |          Unicode ordinals, strings, or None.\n",
      " |      \n",
      " |      The table must implement lookup/indexing via __getitem__, for instance a\n",
      " |      dictionary or list.  If this operation raises LookupError, the character is\n",
      " |      left untouched.  Characters mapped to None are deleted.\n",
      " |  \n",
      " |  upper(self, /)\n",
      " |      Return a copy of the string converted to uppercase.\n",
      " |  \n",
      " |  zfill(self, width, /)\n",
      " |      Pad a numeric string with zeros on the left, to fill a field of the given width.\n",
      " |      \n",
      " |      The string is never truncated.\n",
      " |  \n",
      " |  ----------------------------------------------------------------------\n",
      " |  Static methods defined here:\n",
      " |  \n",
      " |  __new__(*args, **kwargs) from builtins.type\n",
      " |      Create and return a new object.  See help(type) for accurate signature.\n",
      " |  \n",
      " |  maketrans(...)\n",
      " |      Return a translation table usable for str.translate().\n",
      " |      \n",
      " |      If there is only one argument, it must be a dictionary mapping Unicode\n",
      " |      ordinals (integers) or characters to Unicode ordinals, strings or None.\n",
      " |      Character keys will be then converted to ordinals.\n",
      " |      If there are two arguments, they must be strings of equal length, and\n",
      " |      in the resulting dictionary, each character in x will be mapped to the\n",
      " |      character at the same position in y. If there is a third argument, it\n",
      " |      must be a string, whose characters will be mapped to None in the result.\n",
      "\n"
     ]
    }
   ],
   "source": [
    "help(str)"
   ]
  },
  {
   "cell_type": "code",
   "execution_count": 59,
   "id": "466b2f65",
   "metadata": {},
   "outputs": [
    {
     "name": "stdout",
     "output_type": "stream",
     "text": [
      "bandra\n",
      "mumbai\n"
     ]
    }
   ],
   "source": [
    "string=\"bmaunmdbraai\"\n",
    "message1 = string[0::2]\n",
    "message2 = string[1::2]\n",
    "print(message1)\n",
    "print(message2)"
   ]
  },
  {
   "cell_type": "code",
   "execution_count": null,
   "id": "a48c9202",
   "metadata": {},
   "outputs": [],
   "source": []
  },
  {
   "cell_type": "code",
   "execution_count": null,
   "id": "72ec293e",
   "metadata": {},
   "outputs": [],
   "source": []
  }
 ],
 "metadata": {
  "kernelspec": {
   "display_name": "Python 3 (ipykernel)",
   "language": "python",
   "name": "python3"
  },
  "language_info": {
   "codemirror_mode": {
    "name": "ipython",
    "version": 3
   },
   "file_extension": ".py",
   "mimetype": "text/x-python",
   "name": "python",
   "nbconvert_exporter": "python",
   "pygments_lexer": "ipython3",
   "version": "3.9.12"
  }
 },
 "nbformat": 4,
 "nbformat_minor": 5
}
