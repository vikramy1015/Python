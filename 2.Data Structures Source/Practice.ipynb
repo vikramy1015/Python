{
 "cells": [
  {
   "cell_type": "markdown",
   "id": "4f6dca0e",
   "metadata": {},
   "source": [
    "# Data Structures\n"
   ]
  },
  {
   "cell_type": "code",
   "execution_count": 1,
   "id": "302cfc9d",
   "metadata": {},
   "outputs": [],
   "source": [
    "# data structure is noting but collection of data values"
   ]
  },
  {
   "cell_type": "code",
   "execution_count": 1,
   "id": "cd23e341",
   "metadata": {},
   "outputs": [
    {
     "name": "stdout",
     "output_type": "stream",
     "text": [
      "whats your NameVIkram\n",
      "whats your number273\n",
      "VIkram 273\n"
     ]
    }
   ],
   "source": [
    "name=input(\"whats your Name\")\n",
    "number=input(\"whats your number\")\n",
    "print(name,number)"
   ]
  },
  {
   "cell_type": "code",
   "execution_count": 6,
   "id": "e2f7cd80",
   "metadata": {},
   "outputs": [
    {
     "data": {
      "text/plain": [
       "585"
      ]
     },
     "execution_count": 6,
     "metadata": {},
     "output_type": "execute_result"
    }
   ],
   "source": [
    "from random import seed\n",
    "from random import randint\n",
    "value=randint(100,999)\n",
    "value"
   ]
  },
  {
   "cell_type": "code",
   "execution_count": 7,
   "id": "f295d09d",
   "metadata": {},
   "outputs": [
    {
     "name": "stdout",
     "output_type": "stream",
     "text": [
      "Vikram 876 585\n"
     ]
    }
   ],
   "source": [
    "print(name,number,value)"
   ]
  },
  {
   "cell_type": "markdown",
   "id": "26c447cd",
   "metadata": {},
   "source": [
    "# LISTS"
   ]
  },
  {
   "cell_type": "code",
   "execution_count": 9,
   "id": "19e5a2c9",
   "metadata": {},
   "outputs": [
    {
     "data": {
      "text/plain": [
       "['Vikram', '876', 585]"
      ]
     },
     "execution_count": 9,
     "metadata": {},
     "output_type": "execute_result"
    }
   ],
   "source": [
    "list1=[name,number,value]\n",
    "list1"
   ]
  },
  {
   "cell_type": "code",
   "execution_count": 10,
   "id": "ce26f48d",
   "metadata": {},
   "outputs": [
    {
     "data": {
      "text/plain": [
       "['india', 32, 2, 'mumbai']"
      ]
     },
     "execution_count": 10,
     "metadata": {},
     "output_type": "execute_result"
    }
   ],
   "source": [
    "L=[\"india\",32,2,\"mumbai\"]\n",
    "L"
   ]
  },
  {
   "cell_type": "code",
   "execution_count": 13,
   "id": "450b06e3",
   "metadata": {},
   "outputs": [
    {
     "data": {
      "text/plain": [
       "['Chemistry', 'Biology', [1992, 2004], 5]"
      ]
     },
     "execution_count": 13,
     "metadata": {},
     "output_type": "execute_result"
    }
   ],
   "source": [
    "#nested lis==> List inside another list is called Nested list\n",
    "L=[\"Chemistry\",\"Biology\",[1992,2004],5]\n",
    "L"
   ]
  },
  {
   "cell_type": "code",
   "execution_count": 19,
   "id": "c32ef635",
   "metadata": {},
   "outputs": [
    {
     "data": {
      "text/plain": [
       "'Chemistry'"
      ]
     },
     "execution_count": 19,
     "metadata": {},
     "output_type": "execute_result"
    }
   ],
   "source": [
    "#Indexing\n",
    "L[0]\n"
   ]
  },
  {
   "cell_type": "code",
   "execution_count": 18,
   "id": "f73140b2",
   "metadata": {},
   "outputs": [
    {
     "data": {
      "text/plain": [
       "[1992, 2004]"
      ]
     },
     "execution_count": 18,
     "metadata": {},
     "output_type": "execute_result"
    }
   ],
   "source": [
    "L[2]"
   ]
  },
  {
   "cell_type": "code",
   "execution_count": 28,
   "id": "d3df3829",
   "metadata": {},
   "outputs": [],
   "source": [
    "i=L[-2]\n"
   ]
  },
  {
   "cell_type": "code",
   "execution_count": 21,
   "id": "70a8cef6",
   "metadata": {},
   "outputs": [
    {
     "data": {
      "text/plain": [
       "1992"
      ]
     },
     "execution_count": 21,
     "metadata": {},
     "output_type": "execute_result"
    }
   ],
   "source": [
    "L[-2][0]"
   ]
  },
  {
   "cell_type": "code",
   "execution_count": 22,
   "id": "16c2f2e5",
   "metadata": {},
   "outputs": [
    {
     "data": {
      "text/plain": [
       "2004"
      ]
     },
     "execution_count": 22,
     "metadata": {},
     "output_type": "execute_result"
    }
   ],
   "source": [
    "L[-2][1]"
   ]
  },
  {
   "cell_type": "code",
   "execution_count": 29,
   "id": "27adf4af",
   "metadata": {},
   "outputs": [
    {
     "data": {
      "text/plain": [
       "['Biology', [1992, 2004]]"
      ]
     },
     "execution_count": 29,
     "metadata": {},
     "output_type": "execute_result"
    }
   ],
   "source": [
    "##Slicing -- accessing some of elements in list\n",
    "L[1:3]\n"
   ]
  },
  {
   "cell_type": "code",
   "execution_count": 32,
   "id": "9baf84d9",
   "metadata": {},
   "outputs": [
    {
     "data": {
      "text/plain": [
       "[[1992, 2004], 5]"
      ]
     },
     "execution_count": 32,
     "metadata": {},
     "output_type": "execute_result"
    }
   ],
   "source": [
    "L[2:4]"
   ]
  },
  {
   "cell_type": "code",
   "execution_count": 36,
   "id": "ee3bbe07",
   "metadata": {},
   "outputs": [
    {
     "data": {
      "text/plain": [
       "[[1992, 2004]]"
      ]
     },
     "execution_count": 36,
     "metadata": {},
     "output_type": "execute_result"
    }
   ],
   "source": [
    "L[2::2]"
   ]
  },
  {
   "cell_type": "code",
   "execution_count": 38,
   "id": "66776099",
   "metadata": {},
   "outputs": [
    {
     "data": {
      "text/plain": [
       "['Chemistry', 'Biology', [1989, 2004]]"
      ]
     },
     "execution_count": 38,
     "metadata": {},
     "output_type": "execute_result"
    }
   ],
   "source": [
    "# Indexing example \n",
    "L = [\"Chemistry\", \"Biology\", [1989, 2004], (\"Oreily\", \"Pearson\")]\n",
    "L[0]\n",
    "\n",
    "# Slicing\n",
    "L[0:3]"
   ]
  },
  {
   "cell_type": "code",
   "execution_count": 44,
   "id": "17c10f9c",
   "metadata": {},
   "outputs": [
    {
     "name": "stdout",
     "output_type": "stream",
     "text": [
      "1 2 3 4\n",
      "True\n",
      "False\n"
     ]
    }
   ],
   "source": [
    "#membership in list\n",
    "L1=[1,2,3,4]\n",
    "print(1,2,3,4)\n",
    "print(1 in L1)\n",
    "print(7 in L1)"
   ]
  },
  {
   "cell_type": "code",
   "execution_count": 46,
   "id": "64453296",
   "metadata": {},
   "outputs": [
    {
     "data": {
      "text/plain": [
       "['Chemistry', 'Biology', [1989, 2004], ('Oreily', 'Pearson')]"
      ]
     },
     "execution_count": 46,
     "metadata": {},
     "output_type": "execute_result"
    }
   ],
   "source": [
    "#List concatanation \n",
    "L"
   ]
  },
  {
   "cell_type": "code",
   "execution_count": 51,
   "id": "4a4317aa",
   "metadata": {},
   "outputs": [
    {
     "data": {
      "text/plain": [
       "['Chemistry', 'Physics', [1989, 2004], ('Oreily', 'Pearson'), 5, 9]"
      ]
     },
     "execution_count": 51,
     "metadata": {},
     "output_type": "execute_result"
    }
   ],
   "source": [
    "new_L=L+[5,9]\n",
    "new_L"
   ]
  },
  {
   "cell_type": "code",
   "execution_count": 50,
   "id": "1f44c49a",
   "metadata": {},
   "outputs": [
    {
     "data": {
      "text/plain": [
       "['Chemistry', 'Physics', [1989, 2004], ('Oreily', 'Pearson')]"
      ]
     },
     "execution_count": 50,
     "metadata": {},
     "output_type": "execute_result"
    }
   ],
   "source": [
    "# Replace \"Biology \" with Physics\n",
    "L[1]=\"Physics\"\n",
    "L"
   ]
  },
  {
   "cell_type": "code",
   "execution_count": 53,
   "id": "e28b2565",
   "metadata": {},
   "outputs": [
    {
     "data": {
      "text/plain": [
       "['Chemistry', 'Physics', [1989, 2004], ('Oreily', 'Pearson'), 5, 8]"
      ]
     },
     "execution_count": 53,
     "metadata": {},
     "output_type": "execute_result"
    }
   ],
   "source": [
    "#Extend\n",
    "L.extend([5,8])\n",
    "L"
   ]
  },
  {
   "cell_type": "code",
   "execution_count": 55,
   "id": "1b565b8d",
   "metadata": {},
   "outputs": [
    {
     "data": {
      "text/plain": [
       "['Chemistry', 'Physics', [1989, 2004], ('Oreily', 'Pearson'), 5, 8, [5, 8]]"
      ]
     },
     "execution_count": 55,
     "metadata": {},
     "output_type": "execute_result"
    }
   ],
   "source": [
    "#Append -- append will add the list exactly into the list\n",
    "L.append([5,8])\n",
    "L"
   ]
  },
  {
   "cell_type": "code",
   "execution_count": 56,
   "id": "e81d43a3",
   "metadata": {},
   "outputs": [
    {
     "data": {
      "text/plain": [
       "['Chemistry',\n",
       " 'Physics',\n",
       " [1989, 2004],\n",
       " ('Oreily', 'Pearson'),\n",
       " 5,\n",
       " 8,\n",
       " [5, 8],\n",
       " 123]"
      ]
     },
     "execution_count": 56,
     "metadata": {},
     "output_type": "execute_result"
    }
   ],
   "source": [
    "L.append(123)\n",
    "L"
   ]
  },
  {
   "cell_type": "code",
   "execution_count": 57,
   "id": "e0bc0738",
   "metadata": {},
   "outputs": [
    {
     "data": {
      "text/plain": [
       "['Physics', [1989, 2004], ('Oreily', 'Pearson'), 5, 8, [5, 8], 123]"
      ]
     },
     "execution_count": 57,
     "metadata": {},
     "output_type": "execute_result"
    }
   ],
   "source": [
    "#del command\n",
    "del L[0]\n",
    "L"
   ]
  },
  {
   "cell_type": "code",
   "execution_count": 58,
   "id": "47c9a5c2",
   "metadata": {},
   "outputs": [
    {
     "data": {
      "text/plain": [
       "[('Oreily', 'Pearson'), 5, 8, [5, 8], 123]"
      ]
     },
     "execution_count": 58,
     "metadata": {},
     "output_type": "execute_result"
    }
   ],
   "source": [
    "del L[0:2]\n",
    "L"
   ]
  },
  {
   "cell_type": "code",
   "execution_count": 65,
   "id": "0a3d521b",
   "metadata": {},
   "outputs": [
    {
     "data": {
      "text/plain": [
       "9"
      ]
     },
     "execution_count": 65,
     "metadata": {},
     "output_type": "execute_result"
    }
   ],
   "source": [
    "#pop  -- pop will give you the last element in the list and it will pop th element out from the list ()\n",
    "L=['Chemistry', 'Physics', [1989, 2004], ('Oreily', 'Pearson'), 5, 9]\n",
    "L.pop()"
   ]
  },
  {
   "cell_type": "code",
   "execution_count": 64,
   "id": "3398c278",
   "metadata": {},
   "outputs": [
    {
     "name": "stdout",
     "output_type": "stream",
     "text": [
      "['Chemistry', 'Physics', [1989, 2004], ('Oreily', 'Pearson'), 5]\n"
     ]
    }
   ],
   "source": [
    "print(L)"
   ]
  },
  {
   "cell_type": "code",
   "execution_count": 66,
   "id": "c2edbab0",
   "metadata": {},
   "outputs": [
    {
     "data": {
      "text/plain": [
       "['Chemistry', [1989, 2004], ('Oreily', 'Pearson'), 5]"
      ]
     },
     "execution_count": 66,
     "metadata": {},
     "output_type": "execute_result"
    }
   ],
   "source": [
    "#remove\n",
    "L.remove('Physics')\n",
    "L"
   ]
  },
  {
   "cell_type": "code",
   "execution_count": 69,
   "id": "fe4d85ab",
   "metadata": {},
   "outputs": [
    {
     "data": {
      "text/plain": [
       "[('Oreily', 'Pearson'), 5]"
      ]
     },
     "execution_count": 69,
     "metadata": {},
     "output_type": "execute_result"
    }
   ],
   "source": [
    "#POP with index\n",
    "L.pop(0)\n",
    "L"
   ]
  },
  {
   "cell_type": "code",
   "execution_count": null,
   "id": "4fb3837d",
   "metadata": {},
   "outputs": [],
   "source": [
    "# Sorting in List"
   ]
  },
  {
   "cell_type": "code",
   "execution_count": 75,
   "id": "adb78808",
   "metadata": {},
   "outputs": [
    {
     "data": {
      "text/plain": [
       "[12, 23, 83, 654, 7654]"
      ]
     },
     "execution_count": 75,
     "metadata": {},
     "output_type": "execute_result"
    }
   ],
   "source": [
    "L=[23,83,7654,12,654]\n",
    "L.sort()\n",
    "L\n"
   ]
  },
  {
   "cell_type": "code",
   "execution_count": 76,
   "id": "4d3a36b7",
   "metadata": {},
   "outputs": [
    {
     "data": {
      "text/plain": [
       "[7654, 654, 83, 23, 12]"
      ]
     },
     "execution_count": 76,
     "metadata": {},
     "output_type": "execute_result"
    }
   ],
   "source": [
    "L.sort(reverse=True) # Decending order / reverse sort\n",
    "L"
   ]
  },
  {
   "cell_type": "markdown",
   "id": "8cf620ea",
   "metadata": {},
   "source": [
    "#### Difference between sort and sorted"
   ]
  },
  {
   "cell_type": "code",
   "execution_count": 77,
   "id": "dd1f5078",
   "metadata": {},
   "outputs": [
    {
     "data": {
      "text/plain": [
       "['Orange', 'Strawberry', 'mango']"
      ]
     },
     "execution_count": 77,
     "metadata": {},
     "output_type": "execute_result"
    }
   ],
   "source": [
    "#sort(): Sorts the elements of a list in place\n",
    "#sorted(): Assign the sorted elements to a new list and the original list is left as is. \n",
    "A=['Orange','Strawberry','mango']\n",
    "A"
   ]
  },
  {
   "cell_type": "code",
   "execution_count": 79,
   "id": "ccb597e6",
   "metadata": {},
   "outputs": [
    {
     "name": "stdout",
     "output_type": "stream",
     "text": [
      "['Orange', 'Strawberry', 'mango']\n",
      "None\n"
     ]
    }
   ],
   "source": [
    "B=A.sort()\n",
    "print(A)\n",
    "print(B)"
   ]
  },
  {
   "cell_type": "code",
   "execution_count": 86,
   "id": "6d32d69b",
   "metadata": {},
   "outputs": [
    {
     "name": "stdout",
     "output_type": "stream",
     "text": [
      "['Orange', 'Strawberry', 'Mango']\n",
      "['Mango', 'Orange', 'Strawberry']\n"
     ]
    }
   ],
   "source": [
    "A=[\"Orange\", \"Strawberry\", \"Mango\"]\n",
    "C=sorted(A)\n",
    "print (A)\n",
    "print (C)"
   ]
  },
  {
   "cell_type": "code",
   "execution_count": 88,
   "id": "755d56b8",
   "metadata": {},
   "outputs": [
    {
     "data": {
      "text/plain": [
       "1"
      ]
     },
     "execution_count": 88,
     "metadata": {},
     "output_type": "execute_result"
    }
   ],
   "source": [
    "List_1=[1,2,3,4,5]\n",
    "List_1[-5]"
   ]
  },
  {
   "cell_type": "code",
   "execution_count": 89,
   "id": "cfb2d249",
   "metadata": {},
   "outputs": [
    {
     "name": "stdout",
     "output_type": "stream",
     "text": [
      "[]\n"
     ]
    }
   ],
   "source": [
    "word=['1','2','3','4']\n",
    "word[ : ]=[ ]\n",
    "print(word)"
   ]
  },
  {
   "cell_type": "code",
   "execution_count": 90,
   "id": "e90a62ec",
   "metadata": {},
   "outputs": [
    {
     "name": "stdout",
     "output_type": "stream",
     "text": [
      "['five', 'four', 'one', 'six', 'three', 'two']\n",
      "['one', 'two', 'three', 'four', 'five', 'six']\n"
     ]
    }
   ],
   "source": [
    "L = ['one','two','three', 'four', 'five', 'six']\n",
    "print(sorted(L))\n",
    "print (L)"
   ]
  },
  {
   "cell_type": "code",
   "execution_count": 91,
   "id": "2a2163c8",
   "metadata": {},
   "outputs": [
    {
     "name": "stdout",
     "output_type": "stream",
     "text": [
      "['orange', 'Strawberry', 'Mango'] ['orange', 'Strawberry', 'Mango']\n"
     ]
    }
   ],
   "source": [
    "# Shallow copying\n",
    "A=[\"orange\",\"Strawberry\",\"Mango\"]\n",
    "B=A\n",
    "print(A,B)"
   ]
  },
  {
   "cell_type": "code",
   "execution_count": 92,
   "id": "ffe8bf3e",
   "metadata": {},
   "outputs": [
    {
     "name": "stdout",
     "output_type": "stream",
     "text": [
      "['Apple', 'Strawberry', 'Mango'] ['Apple', 'Strawberry', 'Mango']\n"
     ]
    }
   ],
   "source": [
    "A[0]=\"Apple\"\n",
    "print(A,B)"
   ]
  },
  {
   "cell_type": "code",
   "execution_count": 93,
   "id": "b3034426",
   "metadata": {},
   "outputs": [
    {
     "name": "stdout",
     "output_type": "stream",
     "text": [
      "['orange', 'Strawberry', 'Mango'] ['orange', 'Strawberry', 'Mango']\n"
     ]
    }
   ],
   "source": [
    "A=[\"orange\",\"Strawberry\",\"Mango\"]\n",
    "B=A[:] # here we are making a copy and then you can change whatever you want so that both cannot be changed\n",
    "print(A,B)\n"
   ]
  },
  {
   "cell_type": "code",
   "execution_count": 94,
   "id": "e5c616f3",
   "metadata": {},
   "outputs": [
    {
     "name": "stdout",
     "output_type": "stream",
     "text": [
      "['Apple', 'Strawberry', 'Mango'] ['orange', 'Strawberry', 'Mango']\n"
     ]
    }
   ],
   "source": [
    "A[0]=\"Apple\"\n",
    "print(A,B)"
   ]
  },
  {
   "cell_type": "markdown",
   "id": "034d1bf7",
   "metadata": {},
   "source": [
    "<h1 style=\"color:Brown\"> Tuples </h1>\n",
    "\n",
    "- Tuples are an ordered sequence of mixed data types.\n",
    "- Tuples are written as comma-separated  elements within parenthesis\n"
   ]
  },
  {
   "cell_type": "code",
   "execution_count": 99,
   "id": "9b29081f",
   "metadata": {},
   "outputs": [
    {
     "data": {
      "text/plain": [
       "('disco', 12, 3, 5)"
      ]
     },
     "execution_count": 99,
     "metadata": {},
     "output_type": "execute_result"
    }
   ],
   "source": [
    "t=(\"disco\",12,3,5)\n",
    "t\n"
   ]
  },
  {
   "cell_type": "code",
   "execution_count": 98,
   "id": "411fd22e",
   "metadata": {},
   "outputs": [
    {
     "data": {
      "text/plain": [
       "tuple"
      ]
     },
     "execution_count": 98,
     "metadata": {},
     "output_type": "execute_result"
    }
   ],
   "source": [
    "type(t)"
   ]
  },
  {
   "cell_type": "code",
   "execution_count": 100,
   "id": "17702789",
   "metadata": {},
   "outputs": [
    {
     "data": {
      "text/plain": [
       "(1, 2, 3, 4)"
      ]
     },
     "execution_count": 100,
     "metadata": {},
     "output_type": "execute_result"
    }
   ],
   "source": [
    "#Tupple can define in many ways\n",
    "sample_tupple=1,2,3,4\n",
    "sample_tupple"
   ]
  },
  {
   "cell_type": "code",
   "execution_count": 101,
   "id": "1936d8d3",
   "metadata": {},
   "outputs": [
    {
     "name": "stdout",
     "output_type": "stream",
     "text": [
      "(1,)\n"
     ]
    }
   ],
   "source": [
    "#single value tupple , make sure to hav a  at end \n",
    "single_tupple=1,\n",
    "print(single_tupple)"
   ]
  },
  {
   "cell_type": "code",
   "execution_count": 103,
   "id": "2a788701",
   "metadata": {},
   "outputs": [
    {
     "data": {
      "text/plain": [
       "int"
      ]
     },
     "execution_count": 103,
     "metadata": {},
     "output_type": "execute_result"
    }
   ],
   "source": [
    "single_tupple=1 # this is not a tupple\n",
    "type(single_tupple)\n"
   ]
  },
  {
   "cell_type": "code",
   "execution_count": 104,
   "id": "00cb187c",
   "metadata": {},
   "outputs": [
    {
     "data": {
      "text/plain": [
       "int"
      ]
     },
     "execution_count": 104,
     "metadata": {},
     "output_type": "execute_result"
    }
   ],
   "source": [
    "single_tupple1=(1) # this is not a tupple\n",
    "type(single_tupple1)"
   ]
  },
  {
   "cell_type": "markdown",
   "id": "c493c2d4",
   "metadata": {},
   "source": [
    "#### INDEXING with tupple"
   ]
  },
  {
   "cell_type": "code",
   "execution_count": 106,
   "id": "7ac61e0d",
   "metadata": {},
   "outputs": [
    {
     "data": {
      "text/plain": [
       "('viki', 54, 'python')"
      ]
     },
     "execution_count": 106,
     "metadata": {},
     "output_type": "execute_result"
    }
   ],
   "source": [
    "t=(\"viki\",54,\"python\")\n",
    "t\n"
   ]
  },
  {
   "cell_type": "code",
   "execution_count": 107,
   "id": "1c7322da",
   "metadata": {},
   "outputs": [
    {
     "data": {
      "text/plain": [
       "'python'"
      ]
     },
     "execution_count": 107,
     "metadata": {},
     "output_type": "execute_result"
    }
   ],
   "source": [
    "t[2]"
   ]
  },
  {
   "cell_type": "code",
   "execution_count": 110,
   "id": "17a6237a",
   "metadata": {},
   "outputs": [
    {
     "data": {
      "text/plain": [
       "'viki'"
      ]
     },
     "execution_count": 110,
     "metadata": {},
     "output_type": "execute_result"
    }
   ],
   "source": [
    "t[-3]"
   ]
  },
  {
   "cell_type": "markdown",
   "id": "15f4bf88",
   "metadata": {},
   "source": [
    "### Slicing"
   ]
  },
  {
   "cell_type": "markdown",
   "id": "91186910",
   "metadata": {},
   "source": []
  },
  {
   "cell_type": "code",
   "execution_count": 112,
   "id": "d16b43f9",
   "metadata": {},
   "outputs": [
    {
     "data": {
      "text/plain": [
       "('mumbai', 54, 'python', 4, 5, 2)"
      ]
     },
     "execution_count": 112,
     "metadata": {},
     "output_type": "execute_result"
    }
   ],
   "source": [
    "t=(\"mumbai\",54,\"python\",4,5,2)\n",
    "t"
   ]
  },
  {
   "cell_type": "code",
   "execution_count": 113,
   "id": "8833f81f",
   "metadata": {},
   "outputs": [
    {
     "data": {
      "text/plain": [
       "('mumbai', 54, 'python')"
      ]
     },
     "execution_count": 113,
     "metadata": {},
     "output_type": "execute_result"
    }
   ],
   "source": [
    "t[0:3] # index 1st is inclusive and 2nd is exclusive\n"
   ]
  },
  {
   "cell_type": "code",
   "execution_count": 114,
   "id": "f81f12ea",
   "metadata": {},
   "outputs": [
    {
     "data": {
      "text/plain": [
       "(5, 2)"
      ]
     },
     "execution_count": 114,
     "metadata": {},
     "output_type": "execute_result"
    }
   ],
   "source": [
    "t[-2:]"
   ]
  },
  {
   "cell_type": "code",
   "execution_count": 115,
   "id": "e8e2d5ce",
   "metadata": {},
   "outputs": [
    {
     "data": {
      "text/plain": [
       "6"
      ]
     },
     "execution_count": 115,
     "metadata": {},
     "output_type": "execute_result"
    }
   ],
   "source": [
    "len(t)"
   ]
  },
  {
   "cell_type": "markdown",
   "id": "f707b9b7",
   "metadata": {},
   "source": [
    "#### Concatenating tuples"
   ]
  },
  {
   "cell_type": "code",
   "execution_count": 118,
   "id": "f5bf4cfe",
   "metadata": {},
   "outputs": [],
   "source": [
    "tup1=(\"This\", \"is\",\"session\",2)\n",
    "tup2=(\"on\",\"Tuples\")"
   ]
  },
  {
   "cell_type": "code",
   "execution_count": 119,
   "id": "12f1ea58",
   "metadata": {},
   "outputs": [
    {
     "data": {
      "text/plain": [
       "('This', 'is', 'session', 2, 'on', 'Tuples')"
      ]
     },
     "execution_count": 119,
     "metadata": {},
     "output_type": "execute_result"
    }
   ],
   "source": [
    "tup3=tup1+tup2\n",
    "tup3"
   ]
  },
  {
   "cell_type": "markdown",
   "id": "253d7550",
   "metadata": {},
   "source": [
    "#### sum() min() max()"
   ]
  },
  {
   "cell_type": "code",
   "execution_count": 120,
   "id": "19323394",
   "metadata": {},
   "outputs": [
    {
     "data": {
      "text/plain": [
       "21"
      ]
     },
     "execution_count": 120,
     "metadata": {},
     "output_type": "execute_result"
    }
   ],
   "source": [
    "t=(2,4,15,3,-3)\n",
    "sum(t)"
   ]
  },
  {
   "cell_type": "code",
   "execution_count": 121,
   "id": "a6eb4788",
   "metadata": {},
   "outputs": [
    {
     "data": {
      "text/plain": [
       "-3"
      ]
     },
     "execution_count": 121,
     "metadata": {},
     "output_type": "execute_result"
    }
   ],
   "source": [
    "min(t)"
   ]
  },
  {
   "cell_type": "code",
   "execution_count": 122,
   "id": "ae60f893",
   "metadata": {},
   "outputs": [
    {
     "data": {
      "text/plain": [
       "15"
      ]
     },
     "execution_count": 122,
     "metadata": {},
     "output_type": "execute_result"
    }
   ],
   "source": [
    "max(t)"
   ]
  },
  {
   "cell_type": "code",
   "execution_count": 124,
   "id": "866bbf1e",
   "metadata": {},
   "outputs": [
    {
     "ename": "TypeError",
     "evalue": "'tuple' object does not support item assignment",
     "output_type": "error",
     "traceback": [
      "\u001b[0;31m---------------------------------------------------------------------------\u001b[0m",
      "\u001b[0;31mTypeError\u001b[0m                                 Traceback (most recent call last)",
      "Input \u001b[0;32mIn [124]\u001b[0m, in \u001b[0;36m<cell line: 2>\u001b[0;34m()\u001b[0m\n\u001b[1;32m      1\u001b[0m x\u001b[38;5;241m=\u001b[39m(\u001b[38;5;241m1\u001b[39m,\u001b[38;5;241m2\u001b[39m,\u001b[38;5;241m3\u001b[39m)\n\u001b[0;32m----> 2\u001b[0m x[\u001b[38;5;241m2\u001b[39m]\u001b[38;5;241m=\u001b[39m\u001b[38;5;241m5\u001b[39m\n\u001b[1;32m      3\u001b[0m \u001b[38;5;28mprint\u001b[39m(x)\n",
      "\u001b[0;31mTypeError\u001b[0m: 'tuple' object does not support item assignment"
     ]
    }
   ],
   "source": [
    "x=(1,2,3)\n",
    "x[2]=5\n",
    "print(x) # error is expected as Tuples cant be changed "
   ]
  },
  {
   "cell_type": "code",
   "execution_count": 125,
   "id": "94274b23",
   "metadata": {},
   "outputs": [
    {
     "ename": "TypeError",
     "evalue": "'<' not supported between instances of 'str' and 'int'",
     "output_type": "error",
     "traceback": [
      "\u001b[0;31m---------------------------------------------------------------------------\u001b[0m",
      "\u001b[0;31mTypeError\u001b[0m                                 Traceback (most recent call last)",
      "Input \u001b[0;32mIn [125]\u001b[0m, in \u001b[0;36m<cell line: 2>\u001b[0;34m()\u001b[0m\n\u001b[1;32m      1\u001b[0m x\u001b[38;5;241m=\u001b[39m(\u001b[38;5;241m1\u001b[39m,\u001b[38;5;241m2\u001b[39m,\u001b[38;5;124m\"\u001b[39m\u001b[38;5;124mhello\u001b[39m\u001b[38;5;124m\"\u001b[39m,\u001b[38;5;241m3\u001b[39m)\n\u001b[0;32m----> 2\u001b[0m \u001b[38;5;28;43mmin\u001b[39;49m\u001b[43m(\u001b[49m\u001b[43mx\u001b[49m\u001b[43m)\u001b[49m\n",
      "\u001b[0;31mTypeError\u001b[0m: '<' not supported between instances of 'str' and 'int'"
     ]
    }
   ],
   "source": [
    "x=(1,2,\"hello\",3)\n",
    "min(x) # expected error as there is a string in tuple and canr find the min "
   ]
  },
  {
   "cell_type": "code",
   "execution_count": 126,
   "id": "8b1810ba",
   "metadata": {},
   "outputs": [
    {
     "data": {
      "text/plain": [
       "'s'"
      ]
     },
     "execution_count": 126,
     "metadata": {},
     "output_type": "execute_result"
    }
   ],
   "source": [
    "t = (\"disco\", 12, 4.5)\n",
    "t[0][2]"
   ]
  },
  {
   "cell_type": "markdown",
   "id": "b1c999d8",
   "metadata": {},
   "source": [
    "#### Immutability of tuples"
   ]
  },
  {
   "cell_type": "code",
   "execution_count": 127,
   "id": "16f6d9fe",
   "metadata": {},
   "outputs": [
    {
     "data": {
      "text/plain": [
       "('Disco', 3, 6, 'USA', 2.3)"
      ]
     },
     "execution_count": 127,
     "metadata": {},
     "output_type": "execute_result"
    }
   ],
   "source": [
    "t=(\"USA\",3,6,\"Disco\",2.3)\n",
    "t"
   ]
  },
  {
   "cell_type": "code",
   "execution_count": 128,
   "id": "0d5efa2b",
   "metadata": {},
   "outputs": [
    {
     "ename": "TypeError",
     "evalue": "'tuple' object does not support item assignment",
     "output_type": "error",
     "traceback": [
      "\u001b[0;31m---------------------------------------------------------------------------\u001b[0m",
      "\u001b[0;31mTypeError\u001b[0m                                 Traceback (most recent call last)",
      "Input \u001b[0;32mIn [128]\u001b[0m, in \u001b[0;36m<cell line: 1>\u001b[0;34m()\u001b[0m\n\u001b[0;32m----> 1\u001b[0m t[\u001b[38;5;241m3\u001b[39m]\u001b[38;5;241m=\u001b[39m\u001b[38;5;124m\"\u001b[39m\u001b[38;5;124mHardrocks\u001b[39m\u001b[38;5;124m\"\u001b[39m\n",
      "\u001b[0;31mTypeError\u001b[0m: 'tuple' object does not support item assignment"
     ]
    }
   ],
   "source": [
    "t[3]=\"Hardrocks\" # expected error ad tuple cant change but we can create a new tuple and slice it"
   ]
  },
  {
   "cell_type": "code",
   "execution_count": 130,
   "id": "222a237d",
   "metadata": {},
   "outputs": [
    {
     "data": {
      "text/plain": [
       "('Disco', 3, 6, 'hard Rock', 2.3)"
      ]
     },
     "execution_count": 130,
     "metadata": {},
     "output_type": "execute_result"
    }
   ],
   "source": [
    "# example of modifying the tuple using creating new one and using the old and concatebating\n",
    "new_t=t[0:3]+(\"hard Rock\",) +t[4:] \n",
    "new_t"
   ]
  },
  {
   "cell_type": "markdown",
   "id": "58dc5850",
   "metadata": {},
   "source": [
    "#### Sorting a tuple"
   ]
  },
  {
   "cell_type": "code",
   "execution_count": 132,
   "id": "b3bd53d4",
   "metadata": {},
   "outputs": [
    {
     "data": {
      "text/plain": [
       "(1, 4, 9, 3, 5, -8, -73)"
      ]
     },
     "execution_count": 132,
     "metadata": {},
     "output_type": "execute_result"
    }
   ],
   "source": [
    "t=(1,4,9,3,5,-8,-73)\n",
    "t"
   ]
  },
  {
   "cell_type": "code",
   "execution_count": 133,
   "id": "d35f28d7",
   "metadata": {},
   "outputs": [
    {
     "data": {
      "text/plain": [
       "[-73, -8, 1, 3, 4, 5, 9]"
      ]
     },
     "execution_count": 133,
     "metadata": {},
     "output_type": "execute_result"
    }
   ],
   "source": [
    "sorted(t)  # when we sort the tuple , it wil automatically converts to list"
   ]
  },
  {
   "cell_type": "code",
   "execution_count": 134,
   "id": "6038f77c",
   "metadata": {},
   "outputs": [
    {
     "data": {
      "text/plain": [
       "(-73, -8, 1, 3, 4, 5, 9)"
      ]
     },
     "execution_count": 134,
     "metadata": {},
     "output_type": "execute_result"
    }
   ],
   "source": [
    "x=sorted(t) # in this way we can sort the tuple and and can have it as a Tuple \n",
    "y=tuple(x) # we are doing a casting which list to tuple\n",
    "y"
   ]
  },
  {
   "cell_type": "markdown",
   "id": "407832e8",
   "metadata": {},
   "source": [
    "#### Nested Tuples"
   ]
  },
  {
   "cell_type": "code",
   "execution_count": 142,
   "id": "19b7d9b5",
   "metadata": {},
   "outputs": [
    {
     "data": {
      "text/plain": [
       "(1, 4, 'Disco', ('Python', 'java'))"
      ]
     },
     "execution_count": 142,
     "metadata": {},
     "output_type": "execute_result"
    }
   ],
   "source": [
    "t=(1,4,\"Disco\",(\"Python\",\"java\"))\n",
    "t"
   ]
  },
  {
   "cell_type": "code",
   "execution_count": 148,
   "id": "f5e31489",
   "metadata": {},
   "outputs": [
    {
     "name": "stdout",
     "output_type": "stream",
     "text": [
      "<class 'int'>\n",
      "<class 'tuple'>\n"
     ]
    }
   ],
   "source": [
    "print(type(t[1]))\n",
    "print(type(t[3]))"
   ]
  },
  {
   "cell_type": "code",
   "execution_count": 138,
   "id": "e53e0f60",
   "metadata": {},
   "outputs": [
    {
     "name": "stdout",
     "output_type": "stream",
     "text": [
      "1\n",
      "3\n"
     ]
    }
   ],
   "source": [
    "#### packing and Unpacking in Tuples\n",
    "t = (1,2,3,4)     # Packing \n",
    "(a,b,c,d) = t     # Unpacking \n",
    "print (a) # packing and unpacking \n",
    "print(c)"
   ]
  },
  {
   "cell_type": "markdown",
   "id": "b8f05a50",
   "metadata": {},
   "source": [
    "#### dir() - to view the attributes or methods of an object"
   ]
  },
  {
   "cell_type": "code",
   "execution_count": 150,
   "id": "548a247b",
   "metadata": {},
   "outputs": [
    {
     "name": "stdout",
     "output_type": "stream",
     "text": [
      "['__add__', '__class__', '__class_getitem__', '__contains__', '__delattr__', '__dir__', '__doc__', '__eq__', '__format__', '__ge__', '__getattribute__', '__getitem__', '__getnewargs__', '__gt__', '__hash__', '__init__', '__init_subclass__', '__iter__', '__le__', '__len__', '__lt__', '__mul__', '__ne__', '__new__', '__reduce__', '__reduce_ex__', '__repr__', '__rmul__', '__setattr__', '__sizeof__', '__str__', '__subclasshook__', 'count', 'index']\n"
     ]
    }
   ],
   "source": [
    "t = ()\n",
    "print(dir(t))\n",
    "# print(help(t))"
   ]
  },
  {
   "cell_type": "markdown",
   "id": "2c8b0466",
   "metadata": {},
   "source": []
  },
  {
   "cell_type": "code",
   "execution_count": 154,
   "id": "4c70226c",
   "metadata": {},
   "outputs": [
    {
     "name": "stdout",
     "output_type": "stream",
     "text": [
      "4\n"
     ]
    }
   ],
   "source": [
    "t=(1,2,3,4)\n",
    "print(len(t))"
   ]
  },
  {
   "cell_type": "code",
   "execution_count": 158,
   "id": "d7d543a6",
   "metadata": {},
   "outputs": [
    {
     "ename": "NameError",
     "evalue": "name 'Hello' is not defined",
     "output_type": "error",
     "traceback": [
      "\u001b[0;31m---------------------------------------------------------------------------\u001b[0m",
      "\u001b[0;31mNameError\u001b[0m                                 Traceback (most recent call last)",
      "Input \u001b[0;32mIn [158]\u001b[0m, in \u001b[0;36m<cell line: 1>\u001b[0;34m()\u001b[0m\n\u001b[0;32m----> 1\u001b[0m x \u001b[38;5;241m=\u001b[39m (\u001b[43mHello\u001b[49m,\u001b[38;5;124m'\u001b[39m\u001b[38;5;124m2\u001b[39m\u001b[38;5;124m'\u001b[39m,\u001b[38;5;124m'\u001b[39m\u001b[38;5;124m3\u001b[39m\u001b[38;5;124m'\u001b[39m)\n\u001b[1;32m      2\u001b[0m \u001b[38;5;28mtype\u001b[39m(x)\n",
      "\u001b[0;31mNameError\u001b[0m: name 'Hello' is not defined"
     ]
    }
   ],
   "source": [
    "x = (Hello,'2','3')\n",
    "type(x)"
   ]
  },
  {
   "cell_type": "markdown",
   "id": "f422119f",
   "metadata": {},
   "source": [
    "<h1 style=\"color:Brown\"> Sets </h1>\n",
    "\n",
    "- Sets are a type of collection like lists and tuples, storing mixed data.\n",
    "- Sets are enclosed within curly brackets and elements are written as comma-separated.\n",
    "- Sets are unordered\n",
    "- Sets do not allow duplicates"
   ]
  },
  {
   "cell_type": "code",
   "execution_count": 160,
   "id": "03968acb",
   "metadata": {},
   "outputs": [
    {
     "name": "stdout",
     "output_type": "stream",
     "text": [
      "6\n"
     ]
    }
   ],
   "source": [
    "nums=set([1,2,3,4,5,6])\n",
    "print(len(nums))"
   ]
  },
  {
   "cell_type": "code",
   "execution_count": 161,
   "id": "cce15dc8",
   "metadata": {},
   "outputs": [],
   "source": [
    "# 'sets' that is unordered, or, in other words, it doesn’t maintain an order in which elements are inserted"
   ]
  },
  {
   "cell_type": "code",
   "execution_count": null,
   "id": "7f221573",
   "metadata": {},
   "outputs": [],
   "source": []
  },
  {
   "cell_type": "code",
   "execution_count": 13,
   "id": "6df24771",
   "metadata": {},
   "outputs": [
    {
     "data": {
      "text/plain": [
       "{1, 2, 3, 4, 5, 'VIKRAM', 'Vikram'}"
      ]
     },
     "execution_count": 13,
     "metadata": {},
     "output_type": "execute_result"
    }
   ],
   "source": [
    "s={1,2,3,4,4,4,5,5,5,\"Vikram\",\"Vikram\",\"VIKRAM\"}\n",
    "type(s)\n",
    "s"
   ]
  },
  {
   "cell_type": "code",
   "execution_count": 21,
   "id": "58dedc92",
   "metadata": {},
   "outputs": [
    {
     "data": {
      "text/plain": [
       "{'A', 'B', 'C', 'D', 'E', 'F'}"
      ]
     },
     "execution_count": 21,
     "metadata": {},
     "output_type": "execute_result"
    }
   ],
   "source": [
    "Grades = [\"A\", \"A\", \"B\", \"C\", \"D\", \"B\", \"B\", \"C\", \"D\", \"E\", \"C\", \"C\", \"A\", \"B\", \"F\", \"D\", \"C\", \"B\", \"C\", \"A\", \"B\", \"F\", \"B\", \"A\", \"E\", \"B\", \"B\", \"C\", \"D\"]\n",
    "\n",
    "set(Grades)"
   ]
  },
  {
   "cell_type": "code",
   "execution_count": 24,
   "id": "1512403f",
   "metadata": {},
   "outputs": [
    {
     "data": {
      "text/plain": [
       "{1, 2, 3, 4, 5}"
      ]
     },
     "execution_count": 24,
     "metadata": {},
     "output_type": "execute_result"
    }
   ],
   "source": [
    "l=[1,2,3,4,5]\n",
    "set_1=set(l)\n",
    "set_1"
   ]
  },
  {
   "cell_type": "code",
   "execution_count": 25,
   "id": "611361c2",
   "metadata": {},
   "outputs": [
    {
     "data": {
      "text/plain": [
       "5"
      ]
     },
     "execution_count": 25,
     "metadata": {},
     "output_type": "execute_result"
    }
   ],
   "source": [
    "len(set_1)"
   ]
  },
  {
   "cell_type": "code",
   "execution_count": 29,
   "id": "f632789b",
   "metadata": {},
   "outputs": [
    {
     "data": {
      "text/plain": [
       "{1, 2, 3, 4, 5}"
      ]
     },
     "execution_count": 29,
     "metadata": {},
     "output_type": "execute_result"
    }
   ],
   "source": [
    "a={1,2,3,4,5}\n",
    "a"
   ]
  },
  {
   "cell_type": "code",
   "execution_count": 30,
   "id": "3e9e40ad",
   "metadata": {},
   "outputs": [
    {
     "data": {
      "text/plain": [
       "{1, 2, 3, 4, 5, 'Australia'}"
      ]
     },
     "execution_count": 30,
     "metadata": {},
     "output_type": "execute_result"
    }
   ],
   "source": [
    "a.add(\"Australia\") # Sets are mutable\n",
    "a"
   ]
  },
  {
   "cell_type": "code",
   "execution_count": 32,
   "id": "af0757cd",
   "metadata": {},
   "outputs": [
    {
     "data": {
      "text/plain": [
       "{1, 2, 3, 4, 5}"
      ]
     },
     "execution_count": 32,
     "metadata": {},
     "output_type": "execute_result"
    }
   ],
   "source": [
    "a.remove(\"Australia\")\n",
    "a"
   ]
  },
  {
   "cell_type": "code",
   "execution_count": 35,
   "id": "e585a7b1",
   "metadata": {},
   "outputs": [],
   "source": [
    "# Set Operations\n",
    "A = {0, 2, 4, 6, 8}\n",
    "B = {1, 2, 3, 4, 5}"
   ]
  },
  {
   "cell_type": "code",
   "execution_count": 36,
   "id": "39f6de4e",
   "metadata": {},
   "outputs": [
    {
     "name": "stdout",
     "output_type": "stream",
     "text": [
      "{0, 2, 4, 6, 8} {1, 2, 3, 4, 5}\n"
     ]
    }
   ],
   "source": [
    "print(A,B)"
   ]
  },
  {
   "cell_type": "code",
   "execution_count": 38,
   "id": "ce9f85bc",
   "metadata": {},
   "outputs": [
    {
     "name": "stdout",
     "output_type": "stream",
     "text": [
      "{0, 1, 2, 3, 4, 5, 6, 8}\n",
      "{0, 1, 2, 3, 4, 5, 6, 8}\n"
     ]
    }
   ],
   "source": [
    "print(A | B)  # Union\n",
    "print(A.union(B))  # UNION"
   ]
  },
  {
   "cell_type": "code",
   "execution_count": 40,
   "id": "09e4727a",
   "metadata": {},
   "outputs": [
    {
     "name": "stdout",
     "output_type": "stream",
     "text": [
      "{2, 4}\n",
      "{2, 4}\n"
     ]
    }
   ],
   "source": [
    "print(A & B) # intersection -- values in both A and B\n",
    "print(A.intersection(B))"
   ]
  },
  {
   "cell_type": "code",
   "execution_count": 43,
   "id": "47e5e9cd",
   "metadata": {},
   "outputs": [
    {
     "name": "stdout",
     "output_type": "stream",
     "text": [
      "{0, 8, 6}\n",
      "{0, 8, 6}\n"
     ]
    }
   ],
   "source": [
    "print(A-B) # here taking all values of B that are in A\n",
    "print(A.difference(B))"
   ]
  },
  {
   "cell_type": "code",
   "execution_count": 48,
   "id": "36249591",
   "metadata": {},
   "outputs": [
    {
     "name": "stdout",
     "output_type": "stream",
     "text": [
      "{0, 1, 3, 5, 6, 8}\n"
     ]
    }
   ],
   "source": [
    "print(A^ B)  # symmetric diff  , removing the numbers having in both and displaying rest of numbers in both\n"
   ]
  },
  {
   "cell_type": "markdown",
   "id": "1853a8e8",
   "metadata": {},
   "source": [
    "####  Set methods\n",
    "A = {0,2,4,6,8}\n",
    "\n",
    "B = {1,2,3,4,5}\n",
    "Union represents the total unique elements in both sets.\n",
    "\n",
    "A.union(B) → {0, 1, 2, 3, 4, 5, 6, 8}\n",
    "\n",
    "Intersection represents the elements common to both sets.\n",
    "\n",
    "A.intersection(B) → {2, 4}\n",
    "\n",
    "Difference(A-B) represents the elements present in A and not in B.\n",
    "\n",
    "A.difference(B) → {0, 6, 8}\n",
    "\n",
    "Symmetric difference represents the union of the elements A and B minus the intersection of A and B.\n",
    "\n",
    "A^B → {0, 6, 8, 1, 3, 5}\n",
    "\n",
    "The order of elements shown above may not be the same when you actually execute the above operations. It is because sets are unordered, which means they do not store the positional index of an element in the set.\n"
   ]
  },
  {
   "cell_type": "code",
   "execution_count": 55,
   "id": "a6afe6ca",
   "metadata": {},
   "outputs": [
    {
     "data": {
      "text/plain": [
       "{1, 3, 4, 5, 6, 7}"
      ]
     },
     "execution_count": 55,
     "metadata": {},
     "output_type": "execute_result"
    }
   ],
   "source": [
    "A = [5, 1, 3, 4, 4, 5, 6, 7]\n",
    "B = [3, 3, 5, 5, 1 ,7 ,2]\n",
    "List_1=set(A)\n",
    "List_1"
   ]
  },
  {
   "cell_type": "code",
   "execution_count": 56,
   "id": "848aec9c",
   "metadata": {},
   "outputs": [
    {
     "name": "stdout",
     "output_type": "stream",
     "text": [
      "4\n"
     ]
    }
   ],
   "source": [
    "nums = set([1,1,2,3,3,3,4])\n",
    "print(len(nums))"
   ]
  },
  {
   "cell_type": "code",
   "execution_count": 58,
   "id": "605095e5",
   "metadata": {},
   "outputs": [
    {
     "name": "stdout",
     "output_type": "stream",
     "text": [
      "{2, 4, 6}\n"
     ]
    }
   ],
   "source": [
    "A = {5, 1, 3, 4, 4, 5, 6, 7}\n",
    "B = {3, 3, 5, 5, 1 ,7 ,2}\n",
    "print((A.union(B)).difference(A.intersection(B)))"
   ]
  },
  {
   "cell_type": "markdown",
   "id": "22da7141",
   "metadata": {},
   "source": [
    "In this session, we are going to talk about dictionaries. In Python, we use dictionaries to store key-value pairs.\n",
    "Here is an example -\n",
    "Let's take the example of a customer as seen earlier.\n",
    "Now a customer could have multiple attributes such as \n",
    "1. Name\n",
    "2. Email\n",
    "3. Userid\n",
    "4. Address \n",
    "5. Phone number\n",
    "\n",
    "Now each of these attributes would be our key and corresponding we'll have values against each on them\n",
    "\n",
    "With a dictionary, we can store a bunch of key-value pairs, let us now see have a look at the 'Dictionary' data type in Python"
   ]
  },
  {
   "cell_type": "markdown",
   "id": "052f3dd4",
   "metadata": {},
   "source": [
    "<h1 style=\"color:Brown\"> Dictionaries </h1>\n",
    "\n",
    "- A dictionary stores element as keys and values pairs.\n",
    "- The key is like an index, it's is always unique and immutable. \n",
    "- The values are the objects that contain information.\n",
    "- Values are accessed using their keys.\n",
    "- Each key is followed by a value separated by a colon. \n",
    "- The values can be immutable, mutable, and duplicates. \n",
    "- Each key and value pair is separated by a comma enclosed inside curly brackets."
   ]
  },
  {
   "cell_type": "code",
   "execution_count": 1,
   "id": "a71902b7",
   "metadata": {},
   "outputs": [
    {
     "data": {
      "text/plain": [
       "{'India': 'INR', 'USA': 'USD', 'French': 'Euro'}"
      ]
     },
     "execution_count": 1,
     "metadata": {},
     "output_type": "execute_result"
    }
   ],
   "source": [
    "d={\"India\":\"INR\",\"USA\":\"USD\",\"French\":\"Euro\"}\n",
    "d"
   ]
  },
  {
   "cell_type": "code",
   "execution_count": 7,
   "id": "2f301f8d",
   "metadata": {},
   "outputs": [
    {
     "name": "stdout",
     "output_type": "stream",
     "text": [
      "USD and INR\n"
     ]
    }
   ],
   "source": [
    "print(d[\"USA\"],  \"and\", d[\"India\"])"
   ]
  },
  {
   "cell_type": "code",
   "execution_count": 9,
   "id": "9af3ff0a",
   "metadata": {},
   "outputs": [
    {
     "data": {
      "text/plain": [
       "{'India': 'INR', 'USA': '$', 'French': 'Euro'}"
      ]
     },
     "execution_count": 9,
     "metadata": {},
     "output_type": "execute_result"
    }
   ],
   "source": [
    "# Replace the value for a key in a dictionary\n",
    "\n",
    "d[\"USA\"] = \"$\"\n",
    "\n",
    "d"
   ]
  },
  {
   "cell_type": "code",
   "execution_count": 11,
   "id": "d43e151a",
   "metadata": {},
   "outputs": [
    {
     "data": {
      "text/plain": [
       "{'India': 'INR', 'USA': '$', 'French': 'Euro', 'Malaysia': 'MYR'}"
      ]
     },
     "execution_count": 11,
     "metadata": {},
     "output_type": "execute_result"
    }
   ],
   "source": [
    "#insert new key  value pair\n",
    "d[\"Malaysia\"]=\"MYR\"\n",
    "d"
   ]
  },
  {
   "cell_type": "code",
   "execution_count": 12,
   "id": "a705449c",
   "metadata": {},
   "outputs": [
    {
     "data": {
      "text/plain": [
       "{'India': 'INR', 'USA': '$', 'Malaysia': 'MYR'}"
      ]
     },
     "execution_count": 12,
     "metadata": {},
     "output_type": "execute_result"
    }
   ],
   "source": [
    "#delete the key pair value\n",
    "del d[\"French\"]\n",
    "d"
   ]
  },
  {
   "cell_type": "code",
   "execution_count": 13,
   "id": "3e681d07",
   "metadata": {},
   "outputs": [
    {
     "data": {
      "text/plain": [
       "['India', 'Malaysia', 'USA']"
      ]
     },
     "execution_count": 13,
     "metadata": {},
     "output_type": "execute_result"
    }
   ],
   "source": [
    "# Sorting a dictionary\n",
    "\n",
    "sorted(d)"
   ]
  },
  {
   "cell_type": "code",
   "execution_count": 14,
   "id": "324a3038",
   "metadata": {},
   "outputs": [
    {
     "data": {
      "text/plain": [
       "dict_values(['INR', 'USD', 'Euros'])"
      ]
     },
     "execution_count": 14,
     "metadata": {},
     "output_type": "execute_result"
    }
   ],
   "source": [
    "# values() Method -- extracting all the values from dictionary\n",
    "\n",
    "d = {\"India\" : \"INR\",'2', \"USA\" : \"USD\", \"France\" : \"Euros\"}\n",
    "\n",
    "d.values()"
   ]
  },
  {
   "cell_type": "code",
   "execution_count": 15,
   "id": "62799d80",
   "metadata": {},
   "outputs": [
    {
     "data": {
      "text/plain": [
       "dict_keys(['India', 'USA', 'France'])"
      ]
     },
     "execution_count": 15,
     "metadata": {},
     "output_type": "execute_result"
    }
   ],
   "source": [
    "# Keys() Method\n",
    "\n",
    "d.keys()\n"
   ]
  },
  {
   "cell_type": "code",
   "execution_count": 17,
   "id": "193cd571",
   "metadata": {},
   "outputs": [
    {
     "data": {
      "text/plain": [
       "{'India': 'Ruppee', 'USA': '$', 'France': 'Euros'}"
      ]
     },
     "execution_count": 17,
     "metadata": {},
     "output_type": "execute_result"
    }
   ],
   "source": [
    "# Update() Method\n",
    "\n",
    "d.update({'USA':'$'})\n",
    "d.update({'India':'Ruppee'})\n",
    "d"
   ]
  },
  {
   "cell_type": "code",
   "execution_count": 18,
   "id": "4da5e3da",
   "metadata": {},
   "outputs": [
    {
     "data": {
      "text/plain": [
       "3"
      ]
     },
     "execution_count": 18,
     "metadata": {},
     "output_type": "execute_result"
    }
   ],
   "source": [
    "len(d)"
   ]
  },
  {
   "cell_type": "code",
   "execution_count": 20,
   "id": "a1efed5f",
   "metadata": {},
   "outputs": [
    {
     "data": {
      "text/plain": [
       "['Ansari', 29, 'Product Lead']"
      ]
     },
     "execution_count": 20,
     "metadata": {},
     "output_type": "execute_result"
    }
   ],
   "source": [
    "Employee_data = { 101:['Shiva', 24, 'Content Strategist'] ,\n",
    "                 102:['Udit',25,'Content Strategist'], \n",
    "                 103:['Sonam', 28,'Sr Manager'], 104:['Ansari',29,'Product Lead' ],\n",
    "                 105:['Huzefa',32,'Project Manager' ]}\n",
    "q=Employee_data[104]\n",
    "q\n"
   ]
  },
  {
   "cell_type": "code",
   "execution_count": 22,
   "id": "88d3689c",
   "metadata": {},
   "outputs": [
    {
     "data": {
      "text/plain": [
       "29"
      ]
     },
     "execution_count": 22,
     "metadata": {},
     "output_type": "execute_result"
    }
   ],
   "source": [
    "q[1]"
   ]
  },
  {
   "cell_type": "code",
   "execution_count": 27,
   "id": "6622842c",
   "metadata": {},
   "outputs": [
    {
     "data": {
      "text/plain": [
       "{'a': 1, 'b': 2}"
      ]
     },
     "execution_count": 27,
     "metadata": {},
     "output_type": "execute_result"
    }
   ],
   "source": [
    "d = dict(a=1, b=2)\n",
    "d"
   ]
  },
  {
   "cell_type": "code",
   "execution_count": 28,
   "id": "afe767bb",
   "metadata": {},
   "outputs": [
    {
     "data": {
      "text/plain": [
       "{'a': 1, 'b': 2}"
      ]
     },
     "execution_count": 28,
     "metadata": {},
     "output_type": "execute_result"
    }
   ],
   "source": [
    "d = {'a':1, 'b':2}\n",
    "d"
   ]
  },
  {
   "cell_type": "code",
   "execution_count": 30,
   "id": "3ce848bd",
   "metadata": {},
   "outputs": [
    {
     "data": {
      "text/plain": [
       "{}"
      ]
     },
     "execution_count": 30,
     "metadata": {},
     "output_type": "execute_result"
    }
   ],
   "source": [
    "d={}\n",
    "d"
   ]
  },
  {
   "cell_type": "code",
   "execution_count": 31,
   "id": "a9984d88",
   "metadata": {},
   "outputs": [
    {
     "data": {
      "text/plain": [
       "{'Name': 'Monty', 'Profession': 'Singer'}"
      ]
     },
     "execution_count": 31,
     "metadata": {},
     "output_type": "execute_result"
    }
   ],
   "source": [
    "input_dict={'Name': 'Monty', 'Profession': 'Singer' }\n",
    "input_dict"
   ]
  },
  {
   "cell_type": "code",
   "execution_count": 33,
   "id": "e1589ec1",
   "metadata": {},
   "outputs": [
    {
     "data": {
      "text/plain": [
       "'NA'"
      ]
     },
     "execution_count": 33,
     "metadata": {},
     "output_type": "execute_result"
    }
   ],
   "source": [
    "input_dict.get('Label', 'NA')"
   ]
  },
  {
   "cell_type": "code",
   "execution_count": 34,
   "id": "abc4f7a8",
   "metadata": {},
   "outputs": [
    {
     "name": "stdout",
     "output_type": "stream",
     "text": [
      "NA\n",
      "Singer\n"
     ]
    }
   ],
   "source": [
    "answer=input_dict.get('Label', 'NA')\n",
    "a=input_dict.get('Profession','Singer' )\n",
    "print(answer)\n",
    "print(a)"
   ]
  },
  {
   "cell_type": "code",
   "execution_count": 35,
   "id": "3078c420",
   "metadata": {},
   "outputs": [
    {
     "data": {
      "text/plain": [
       "{'Jack Dorsey': 'Twitter',\n",
       " 'Tim Cook': 'Apple',\n",
       " 'Jeff Bezos': 'Amazon',\n",
       " 'Mukesh Ambani': 'RJIO'}"
      ]
     },
     "execution_count": 35,
     "metadata": {},
     "output_type": "execute_result"
    }
   ],
   "source": [
    "input_dict = {'Jack Dorsey' : 'Twitter' , 'Tim Cook' : 'Apple',\n",
    "              'Jeff Bezos' : 'Amazon' ,'Mukesh Ambani' : 'RJIO'}\n",
    "input_dict"
   ]
  },
  {
   "cell_type": "code",
   "execution_count": 36,
   "id": "48627df3",
   "metadata": {},
   "outputs": [
    {
     "data": {
      "text/plain": [
       "['Jack Dorsey', 'Jeff Bezos', 'Mukesh Ambani', 'Tim Cook']"
      ]
     },
     "execution_count": 36,
     "metadata": {},
     "output_type": "execute_result"
    }
   ],
   "source": [
    "sorted(input_dict)"
   ]
  },
  {
   "cell_type": "code",
   "execution_count": 40,
   "id": "b31e6549",
   "metadata": {},
   "outputs": [
    {
     "data": {
      "text/plain": [
       "['Amazon', 'Apple', 'RJIO', 'Twitter']"
      ]
     },
     "execution_count": 40,
     "metadata": {},
     "output_type": "execute_result"
    }
   ],
   "source": [
    "w=sorted(input_dict.values())\n",
    "\n",
    "w"
   ]
  },
  {
   "cell_type": "code",
   "execution_count": null,
   "id": "a8fa95b1",
   "metadata": {},
   "outputs": [],
   "source": []
  }
 ],
 "metadata": {
  "kernelspec": {
   "display_name": "Python 3 (ipykernel)",
   "language": "python",
   "name": "python3"
  },
  "language_info": {
   "codemirror_mode": {
    "name": "ipython",
    "version": 3
   },
   "file_extension": ".py",
   "mimetype": "text/x-python",
   "name": "python",
   "nbconvert_exporter": "python",
   "pygments_lexer": "ipython3",
   "version": "3.9.12"
  }
 },
 "nbformat": 4,
 "nbformat_minor": 5
}
